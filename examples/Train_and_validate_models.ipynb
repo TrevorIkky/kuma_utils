{
 "cells": [
  {
   "cell_type": "markdown",
   "metadata": {},
   "source": [
    "# Tutorial: Train and validate models\n",
    "\n",
    "- 1. Load data and related packages\n",
    "- 2. Train various models\n",
    "    - 2.1 Trainer\n",
    "    - 2.2 Automated hyperparameter tuning\n",
    "    - 2.3 Custom metrics\n",
    "    - 2.4 Visualize the results\n",
    "    - 2.5 Save and load your Trainer\n",
    "    - 2.6 Train other models\n",
    "- 3. Cross validate models\n",
    "    - 3.1 Trainer.cv()\n",
    "    - 3.2 Automated hyperparameter tuning for .cv()\n",
    "    - 3.3 CrossValidator"
   ]
  },
  {
   "cell_type": "markdown",
   "metadata": {},
   "source": [
    "## 1. Load data and related packages"
   ]
  },
  {
   "cell_type": "code",
   "execution_count": 2,
   "metadata": {},
   "outputs": [],
   "source": [
    "import numpy as np\n",
    "import pandas as pd\n",
    "\n",
    "from sklearn.model_selection import train_test_split, StratifiedKFold\n",
    "from sklearn.linear_model import LogisticRegression\n",
    "import lightgbm as lgb\n",
    "from lightgbm import LGBMClassifier\n",
    "from catboost import CatBoostClassifier\n",
    "from xgboost import XGBClassifier\n",
    "\n",
    "import warnings\n",
    "warnings.simplefilter(action='ignore', category=FutureWarning)"
   ]
  },
  {
   "cell_type": "markdown",
   "metadata": {},
   "source": [
    "UCI Adult data are going to be used in this tutorial. The data contain both numerical and categorical features, and the target to predict is whether a person makes over 50K a year. It is a very simple binary classification task."
   ]
  },
  {
   "cell_type": "code",
   "execution_count": 3,
   "metadata": {},
   "outputs": [],
   "source": [
    "from catboost.datasets import adult\n",
    "train, test = adult()"
   ]
  },
  {
   "cell_type": "code",
   "execution_count": 5,
   "metadata": {},
   "outputs": [],
   "source": [
    "target_dict = {\n",
    "    '<=50K': 0,\n",
    "    '>50K': 1\n",
    "}\n",
    "train['income'] = train['income'].map(target_dict)\n",
    "test['income'] = test['income'].map(target_dict)"
   ]
  },
  {
   "cell_type": "code",
   "execution_count": 6,
   "metadata": {},
   "outputs": [
    {
     "data": {
      "text/html": [
       "<div>\n",
       "<style scoped>\n",
       "    .dataframe tbody tr th:only-of-type {\n",
       "        vertical-align: middle;\n",
       "    }\n",
       "\n",
       "    .dataframe tbody tr th {\n",
       "        vertical-align: top;\n",
       "    }\n",
       "\n",
       "    .dataframe thead th {\n",
       "        text-align: right;\n",
       "    }\n",
       "</style>\n",
       "<table border=\"1\" class=\"dataframe\">\n",
       "  <thead>\n",
       "    <tr style=\"text-align: right;\">\n",
       "      <th></th>\n",
       "      <th>age</th>\n",
       "      <th>workclass</th>\n",
       "      <th>fnlwgt</th>\n",
       "      <th>education</th>\n",
       "      <th>education-num</th>\n",
       "      <th>marital-status</th>\n",
       "      <th>occupation</th>\n",
       "      <th>relationship</th>\n",
       "      <th>race</th>\n",
       "      <th>sex</th>\n",
       "      <th>capital-gain</th>\n",
       "      <th>capital-loss</th>\n",
       "      <th>hours-per-week</th>\n",
       "      <th>native-country</th>\n",
       "      <th>income</th>\n",
       "    </tr>\n",
       "  </thead>\n",
       "  <tbody>\n",
       "    <tr>\n",
       "      <th>0</th>\n",
       "      <td>39.0</td>\n",
       "      <td>State-gov</td>\n",
       "      <td>77516.0</td>\n",
       "      <td>Bachelors</td>\n",
       "      <td>13.0</td>\n",
       "      <td>Never-married</td>\n",
       "      <td>Adm-clerical</td>\n",
       "      <td>Not-in-family</td>\n",
       "      <td>White</td>\n",
       "      <td>Male</td>\n",
       "      <td>2174.0</td>\n",
       "      <td>0.0</td>\n",
       "      <td>40.0</td>\n",
       "      <td>United-States</td>\n",
       "      <td>0</td>\n",
       "    </tr>\n",
       "    <tr>\n",
       "      <th>1</th>\n",
       "      <td>50.0</td>\n",
       "      <td>Self-emp-not-inc</td>\n",
       "      <td>83311.0</td>\n",
       "      <td>Bachelors</td>\n",
       "      <td>13.0</td>\n",
       "      <td>Married-civ-spouse</td>\n",
       "      <td>Exec-managerial</td>\n",
       "      <td>Husband</td>\n",
       "      <td>White</td>\n",
       "      <td>Male</td>\n",
       "      <td>0.0</td>\n",
       "      <td>0.0</td>\n",
       "      <td>13.0</td>\n",
       "      <td>United-States</td>\n",
       "      <td>0</td>\n",
       "    </tr>\n",
       "    <tr>\n",
       "      <th>2</th>\n",
       "      <td>38.0</td>\n",
       "      <td>Private</td>\n",
       "      <td>215646.0</td>\n",
       "      <td>HS-grad</td>\n",
       "      <td>9.0</td>\n",
       "      <td>Divorced</td>\n",
       "      <td>Handlers-cleaners</td>\n",
       "      <td>Not-in-family</td>\n",
       "      <td>White</td>\n",
       "      <td>Male</td>\n",
       "      <td>0.0</td>\n",
       "      <td>0.0</td>\n",
       "      <td>40.0</td>\n",
       "      <td>United-States</td>\n",
       "      <td>0</td>\n",
       "    </tr>\n",
       "    <tr>\n",
       "      <th>3</th>\n",
       "      <td>53.0</td>\n",
       "      <td>Private</td>\n",
       "      <td>234721.0</td>\n",
       "      <td>11th</td>\n",
       "      <td>7.0</td>\n",
       "      <td>Married-civ-spouse</td>\n",
       "      <td>Handlers-cleaners</td>\n",
       "      <td>Husband</td>\n",
       "      <td>Black</td>\n",
       "      <td>Male</td>\n",
       "      <td>0.0</td>\n",
       "      <td>0.0</td>\n",
       "      <td>40.0</td>\n",
       "      <td>United-States</td>\n",
       "      <td>0</td>\n",
       "    </tr>\n",
       "    <tr>\n",
       "      <th>4</th>\n",
       "      <td>28.0</td>\n",
       "      <td>Private</td>\n",
       "      <td>338409.0</td>\n",
       "      <td>Bachelors</td>\n",
       "      <td>13.0</td>\n",
       "      <td>Married-civ-spouse</td>\n",
       "      <td>Prof-specialty</td>\n",
       "      <td>Wife</td>\n",
       "      <td>Black</td>\n",
       "      <td>Female</td>\n",
       "      <td>0.0</td>\n",
       "      <td>0.0</td>\n",
       "      <td>40.0</td>\n",
       "      <td>Cuba</td>\n",
       "      <td>0</td>\n",
       "    </tr>\n",
       "  </tbody>\n",
       "</table>\n",
       "</div>"
      ],
      "text/plain": [
       "    age         workclass    fnlwgt  education  education-num  \\\n",
       "0  39.0         State-gov   77516.0  Bachelors           13.0   \n",
       "1  50.0  Self-emp-not-inc   83311.0  Bachelors           13.0   \n",
       "2  38.0           Private  215646.0    HS-grad            9.0   \n",
       "3  53.0           Private  234721.0       11th            7.0   \n",
       "4  28.0           Private  338409.0  Bachelors           13.0   \n",
       "\n",
       "       marital-status         occupation   relationship   race     sex  \\\n",
       "0       Never-married       Adm-clerical  Not-in-family  White    Male   \n",
       "1  Married-civ-spouse    Exec-managerial        Husband  White    Male   \n",
       "2            Divorced  Handlers-cleaners  Not-in-family  White    Male   \n",
       "3  Married-civ-spouse  Handlers-cleaners        Husband  Black    Male   \n",
       "4  Married-civ-spouse     Prof-specialty           Wife  Black  Female   \n",
       "\n",
       "   capital-gain  capital-loss  hours-per-week native-country  income  \n",
       "0        2174.0           0.0            40.0  United-States       0  \n",
       "1           0.0           0.0            13.0  United-States       0  \n",
       "2           0.0           0.0            40.0  United-States       0  \n",
       "3           0.0           0.0            40.0  United-States       0  \n",
       "4           0.0           0.0            40.0           Cuba       0  "
      ]
     },
     "execution_count": 6,
     "metadata": {},
     "output_type": "execute_result"
    }
   ],
   "source": [
    "train.head()"
   ]
  },
  {
   "cell_type": "code",
   "execution_count": 7,
   "metadata": {},
   "outputs": [
    {
     "data": {
      "text/html": [
       "<div>\n",
       "<style scoped>\n",
       "    .dataframe tbody tr th:only-of-type {\n",
       "        vertical-align: middle;\n",
       "    }\n",
       "\n",
       "    .dataframe tbody tr th {\n",
       "        vertical-align: top;\n",
       "    }\n",
       "\n",
       "    .dataframe thead th {\n",
       "        text-align: right;\n",
       "    }\n",
       "</style>\n",
       "<table border=\"1\" class=\"dataframe\">\n",
       "  <thead>\n",
       "    <tr style=\"text-align: right;\">\n",
       "      <th></th>\n",
       "      <th>age</th>\n",
       "      <th>workclass</th>\n",
       "      <th>fnlwgt</th>\n",
       "      <th>education</th>\n",
       "      <th>education-num</th>\n",
       "      <th>marital-status</th>\n",
       "      <th>occupation</th>\n",
       "      <th>relationship</th>\n",
       "      <th>race</th>\n",
       "      <th>sex</th>\n",
       "      <th>capital-gain</th>\n",
       "      <th>capital-loss</th>\n",
       "      <th>hours-per-week</th>\n",
       "      <th>native-country</th>\n",
       "      <th>income</th>\n",
       "    </tr>\n",
       "  </thead>\n",
       "  <tbody>\n",
       "    <tr>\n",
       "      <th>0</th>\n",
       "      <td>25.0</td>\n",
       "      <td>Private</td>\n",
       "      <td>226802.0</td>\n",
       "      <td>11th</td>\n",
       "      <td>7.0</td>\n",
       "      <td>Never-married</td>\n",
       "      <td>Machine-op-inspct</td>\n",
       "      <td>Own-child</td>\n",
       "      <td>Black</td>\n",
       "      <td>Male</td>\n",
       "      <td>0.0</td>\n",
       "      <td>0.0</td>\n",
       "      <td>40.0</td>\n",
       "      <td>United-States</td>\n",
       "      <td>0</td>\n",
       "    </tr>\n",
       "    <tr>\n",
       "      <th>1</th>\n",
       "      <td>38.0</td>\n",
       "      <td>Private</td>\n",
       "      <td>89814.0</td>\n",
       "      <td>HS-grad</td>\n",
       "      <td>9.0</td>\n",
       "      <td>Married-civ-spouse</td>\n",
       "      <td>Farming-fishing</td>\n",
       "      <td>Husband</td>\n",
       "      <td>White</td>\n",
       "      <td>Male</td>\n",
       "      <td>0.0</td>\n",
       "      <td>0.0</td>\n",
       "      <td>50.0</td>\n",
       "      <td>United-States</td>\n",
       "      <td>0</td>\n",
       "    </tr>\n",
       "    <tr>\n",
       "      <th>2</th>\n",
       "      <td>28.0</td>\n",
       "      <td>Local-gov</td>\n",
       "      <td>336951.0</td>\n",
       "      <td>Assoc-acdm</td>\n",
       "      <td>12.0</td>\n",
       "      <td>Married-civ-spouse</td>\n",
       "      <td>Protective-serv</td>\n",
       "      <td>Husband</td>\n",
       "      <td>White</td>\n",
       "      <td>Male</td>\n",
       "      <td>0.0</td>\n",
       "      <td>0.0</td>\n",
       "      <td>40.0</td>\n",
       "      <td>United-States</td>\n",
       "      <td>1</td>\n",
       "    </tr>\n",
       "    <tr>\n",
       "      <th>3</th>\n",
       "      <td>44.0</td>\n",
       "      <td>Private</td>\n",
       "      <td>160323.0</td>\n",
       "      <td>Some-college</td>\n",
       "      <td>10.0</td>\n",
       "      <td>Married-civ-spouse</td>\n",
       "      <td>Machine-op-inspct</td>\n",
       "      <td>Husband</td>\n",
       "      <td>Black</td>\n",
       "      <td>Male</td>\n",
       "      <td>7688.0</td>\n",
       "      <td>0.0</td>\n",
       "      <td>40.0</td>\n",
       "      <td>United-States</td>\n",
       "      <td>1</td>\n",
       "    </tr>\n",
       "    <tr>\n",
       "      <th>4</th>\n",
       "      <td>18.0</td>\n",
       "      <td>NaN</td>\n",
       "      <td>103497.0</td>\n",
       "      <td>Some-college</td>\n",
       "      <td>10.0</td>\n",
       "      <td>Never-married</td>\n",
       "      <td>NaN</td>\n",
       "      <td>Own-child</td>\n",
       "      <td>White</td>\n",
       "      <td>Female</td>\n",
       "      <td>0.0</td>\n",
       "      <td>0.0</td>\n",
       "      <td>30.0</td>\n",
       "      <td>United-States</td>\n",
       "      <td>0</td>\n",
       "    </tr>\n",
       "  </tbody>\n",
       "</table>\n",
       "</div>"
      ],
      "text/plain": [
       "    age  workclass    fnlwgt     education  education-num      marital-status  \\\n",
       "0  25.0    Private  226802.0          11th            7.0       Never-married   \n",
       "1  38.0    Private   89814.0       HS-grad            9.0  Married-civ-spouse   \n",
       "2  28.0  Local-gov  336951.0    Assoc-acdm           12.0  Married-civ-spouse   \n",
       "3  44.0    Private  160323.0  Some-college           10.0  Married-civ-spouse   \n",
       "4  18.0        NaN  103497.0  Some-college           10.0       Never-married   \n",
       "\n",
       "          occupation relationship   race     sex  capital-gain  capital-loss  \\\n",
       "0  Machine-op-inspct    Own-child  Black    Male           0.0           0.0   \n",
       "1    Farming-fishing      Husband  White    Male           0.0           0.0   \n",
       "2    Protective-serv      Husband  White    Male           0.0           0.0   \n",
       "3  Machine-op-inspct      Husband  Black    Male        7688.0           0.0   \n",
       "4                NaN    Own-child  White  Female           0.0           0.0   \n",
       "\n",
       "   hours-per-week native-country  income  \n",
       "0            40.0  United-States       0  \n",
       "1            50.0  United-States       0  \n",
       "2            40.0  United-States       1  \n",
       "3            40.0  United-States       1  \n",
       "4            30.0  United-States       0  "
      ]
     },
     "execution_count": 7,
     "metadata": {},
     "output_type": "execute_result"
    }
   ],
   "source": [
    "test.head()"
   ]
  },
  {
   "cell_type": "code",
   "execution_count": 8,
   "metadata": {
    "tags": []
   },
   "outputs": [
    {
     "name": "stdout",
     "output_type": "stream",
     "text": [
      "<class 'pandas.core.frame.DataFrame'>\n",
      "RangeIndex: 32561 entries, 0 to 32560\n",
      "Data columns (total 15 columns):\n",
      " #   Column          Non-Null Count  Dtype  \n",
      "---  ------          --------------  -----  \n",
      " 0   age             32561 non-null  float64\n",
      " 1   workclass       30725 non-null  object \n",
      " 2   fnlwgt          32561 non-null  float64\n",
      " 3   education       32561 non-null  object \n",
      " 4   education-num   32561 non-null  float64\n",
      " 5   marital-status  32561 non-null  object \n",
      " 6   occupation      30718 non-null  object \n",
      " 7   relationship    32561 non-null  object \n",
      " 8   race            32561 non-null  object \n",
      " 9   sex             32561 non-null  object \n",
      " 10  capital-gain    32561 non-null  float64\n",
      " 11  capital-loss    32561 non-null  float64\n",
      " 12  hours-per-week  32561 non-null  float64\n",
      " 13  native-country  31978 non-null  object \n",
      " 14  income          32561 non-null  int64  \n",
      "dtypes: float64(6), int64(1), object(8)\n",
      "memory usage: 3.7+ MB\n"
     ]
    }
   ],
   "source": [
    "train.info()"
   ]
  },
  {
   "cell_type": "markdown",
   "metadata": {},
   "source": [
    "Let's prepare the data. We need to encode categorical features."
   ]
  },
  {
   "cell_type": "code",
   "execution_count": 9,
   "metadata": {},
   "outputs": [],
   "source": [
    "from kuma_utils.preprocessing import (\n",
    "    PrepPipeline, SelectCategorical, SelectNumerical, DistTransformer, Cast)\n",
    "from sklearn.preprocessing import TargetEncoder, OrdinalEncoder"
   ]
  },
  {
   "cell_type": "code",
   "execution_count": 10,
   "metadata": {},
   "outputs": [],
   "source": [
    "num_enc = PrepPipeline([\n",
    "    SelectNumerical(exclude_cols=['income']),\n",
    "    DistTransformer('standard'), \n",
    "    Cast(float)\n",
    "])\n",
    "\n",
    "cat_enc = PrepPipeline([\n",
    "    SelectCategorical(exclude_cols=['income']),\n",
    "    OrdinalEncoder(\n",
    "        encoded_missing_value=np.nan, \n",
    "        handle_unknown='use_encoded_value', \n",
    "        unknown_value=np.nan),\n",
    "    Cast(float)\n",
    "])"
   ]
  },
  {
   "cell_type": "code",
   "execution_count": 11,
   "metadata": {},
   "outputs": [
    {
     "data": {
      "text/html": [
       "<div>\n",
       "<style scoped>\n",
       "    .dataframe tbody tr th:only-of-type {\n",
       "        vertical-align: middle;\n",
       "    }\n",
       "\n",
       "    .dataframe tbody tr th {\n",
       "        vertical-align: top;\n",
       "    }\n",
       "\n",
       "    .dataframe thead th {\n",
       "        text-align: right;\n",
       "    }\n",
       "</style>\n",
       "<table border=\"1\" class=\"dataframe\">\n",
       "  <thead>\n",
       "    <tr style=\"text-align: right;\">\n",
       "      <th></th>\n",
       "      <th>workclass</th>\n",
       "      <th>education</th>\n",
       "      <th>marital-status</th>\n",
       "      <th>occupation</th>\n",
       "      <th>relationship</th>\n",
       "      <th>race</th>\n",
       "      <th>sex</th>\n",
       "      <th>native-country</th>\n",
       "      <th>age</th>\n",
       "      <th>fnlwgt</th>\n",
       "      <th>education-num</th>\n",
       "      <th>capital-gain</th>\n",
       "      <th>capital-loss</th>\n",
       "      <th>hours-per-week</th>\n",
       "    </tr>\n",
       "  </thead>\n",
       "  <tbody>\n",
       "    <tr>\n",
       "      <th>0</th>\n",
       "      <td>6.0</td>\n",
       "      <td>9.0</td>\n",
       "      <td>4.0</td>\n",
       "      <td>0.0</td>\n",
       "      <td>1.0</td>\n",
       "      <td>4.0</td>\n",
       "      <td>1.0</td>\n",
       "      <td>38.0</td>\n",
       "      <td>0.030671</td>\n",
       "      <td>-1.063611</td>\n",
       "      <td>1.134739</td>\n",
       "      <td>0.148453</td>\n",
       "      <td>-0.21666</td>\n",
       "      <td>-0.035429</td>\n",
       "    </tr>\n",
       "    <tr>\n",
       "      <th>1</th>\n",
       "      <td>5.0</td>\n",
       "      <td>9.0</td>\n",
       "      <td>2.0</td>\n",
       "      <td>3.0</td>\n",
       "      <td>0.0</td>\n",
       "      <td>4.0</td>\n",
       "      <td>1.0</td>\n",
       "      <td>38.0</td>\n",
       "      <td>0.837109</td>\n",
       "      <td>-1.008707</td>\n",
       "      <td>1.134739</td>\n",
       "      <td>-0.145920</td>\n",
       "      <td>-0.21666</td>\n",
       "      <td>-2.222153</td>\n",
       "    </tr>\n",
       "    <tr>\n",
       "      <th>2</th>\n",
       "      <td>3.0</td>\n",
       "      <td>11.0</td>\n",
       "      <td>0.0</td>\n",
       "      <td>5.0</td>\n",
       "      <td>1.0</td>\n",
       "      <td>4.0</td>\n",
       "      <td>1.0</td>\n",
       "      <td>38.0</td>\n",
       "      <td>-0.042642</td>\n",
       "      <td>0.245079</td>\n",
       "      <td>-0.420060</td>\n",
       "      <td>-0.145920</td>\n",
       "      <td>-0.21666</td>\n",
       "      <td>-0.035429</td>\n",
       "    </tr>\n",
       "    <tr>\n",
       "      <th>3</th>\n",
       "      <td>3.0</td>\n",
       "      <td>1.0</td>\n",
       "      <td>2.0</td>\n",
       "      <td>5.0</td>\n",
       "      <td>0.0</td>\n",
       "      <td>2.0</td>\n",
       "      <td>1.0</td>\n",
       "      <td>38.0</td>\n",
       "      <td>1.057047</td>\n",
       "      <td>0.425801</td>\n",
       "      <td>-1.197459</td>\n",
       "      <td>-0.145920</td>\n",
       "      <td>-0.21666</td>\n",
       "      <td>-0.035429</td>\n",
       "    </tr>\n",
       "    <tr>\n",
       "      <th>4</th>\n",
       "      <td>3.0</td>\n",
       "      <td>9.0</td>\n",
       "      <td>2.0</td>\n",
       "      <td>9.0</td>\n",
       "      <td>5.0</td>\n",
       "      <td>2.0</td>\n",
       "      <td>0.0</td>\n",
       "      <td>4.0</td>\n",
       "      <td>-0.775768</td>\n",
       "      <td>1.408176</td>\n",
       "      <td>1.134739</td>\n",
       "      <td>-0.145920</td>\n",
       "      <td>-0.21666</td>\n",
       "      <td>-0.035429</td>\n",
       "    </tr>\n",
       "  </tbody>\n",
       "</table>\n",
       "</div>"
      ],
      "text/plain": [
       "   workclass  education  marital-status  occupation  relationship  race  sex  \\\n",
       "0        6.0        9.0             4.0         0.0           1.0   4.0  1.0   \n",
       "1        5.0        9.0             2.0         3.0           0.0   4.0  1.0   \n",
       "2        3.0       11.0             0.0         5.0           1.0   4.0  1.0   \n",
       "3        3.0        1.0             2.0         5.0           0.0   2.0  1.0   \n",
       "4        3.0        9.0             2.0         9.0           5.0   2.0  0.0   \n",
       "\n",
       "   native-country       age    fnlwgt  education-num  capital-gain  \\\n",
       "0            38.0  0.030671 -1.063611       1.134739      0.148453   \n",
       "1            38.0  0.837109 -1.008707       1.134739     -0.145920   \n",
       "2            38.0 -0.042642  0.245079      -0.420060     -0.145920   \n",
       "3            38.0  1.057047  0.425801      -1.197459     -0.145920   \n",
       "4             4.0 -0.775768  1.408176       1.134739     -0.145920   \n",
       "\n",
       "   capital-loss  hours-per-week  \n",
       "0      -0.21666       -0.035429  \n",
       "1      -0.21666       -2.222153  \n",
       "2      -0.21666       -0.035429  \n",
       "3      -0.21666       -0.035429  \n",
       "4      -0.21666       -0.035429  "
      ]
     },
     "execution_count": 11,
     "metadata": {},
     "output_type": "execute_result"
    }
   ],
   "source": [
    "train_cat, train_num = cat_enc.fit_transform(train), num_enc.fit_transform(train)\n",
    "categorical_index = list(range(train_cat.shape[1]))\n",
    "train_encoded = pd.concat([train_cat, train_num], axis=1) \n",
    "train_encoded.head()"
   ]
  },
  {
   "cell_type": "markdown",
   "metadata": {},
   "source": [
    "Looks good to me. Let's apply the same transform to test data."
   ]
  },
  {
   "cell_type": "code",
   "execution_count": 12,
   "metadata": {},
   "outputs": [
    {
     "data": {
      "text/html": [
       "<div>\n",
       "<style scoped>\n",
       "    .dataframe tbody tr th:only-of-type {\n",
       "        vertical-align: middle;\n",
       "    }\n",
       "\n",
       "    .dataframe tbody tr th {\n",
       "        vertical-align: top;\n",
       "    }\n",
       "\n",
       "    .dataframe thead th {\n",
       "        text-align: right;\n",
       "    }\n",
       "</style>\n",
       "<table border=\"1\" class=\"dataframe\">\n",
       "  <thead>\n",
       "    <tr style=\"text-align: right;\">\n",
       "      <th></th>\n",
       "      <th>workclass</th>\n",
       "      <th>education</th>\n",
       "      <th>marital-status</th>\n",
       "      <th>occupation</th>\n",
       "      <th>relationship</th>\n",
       "      <th>race</th>\n",
       "      <th>sex</th>\n",
       "      <th>native-country</th>\n",
       "      <th>age</th>\n",
       "      <th>fnlwgt</th>\n",
       "      <th>education-num</th>\n",
       "      <th>capital-gain</th>\n",
       "      <th>capital-loss</th>\n",
       "      <th>hours-per-week</th>\n",
       "    </tr>\n",
       "  </thead>\n",
       "  <tbody>\n",
       "    <tr>\n",
       "      <th>0</th>\n",
       "      <td>3.0</td>\n",
       "      <td>1.0</td>\n",
       "      <td>4.0</td>\n",
       "      <td>6.0</td>\n",
       "      <td>3.0</td>\n",
       "      <td>2.0</td>\n",
       "      <td>1.0</td>\n",
       "      <td>38.0</td>\n",
       "      <td>-0.995706</td>\n",
       "      <td>0.350774</td>\n",
       "      <td>-1.197459</td>\n",
       "      <td>-0.145920</td>\n",
       "      <td>-0.21666</td>\n",
       "      <td>-0.035429</td>\n",
       "    </tr>\n",
       "    <tr>\n",
       "      <th>1</th>\n",
       "      <td>3.0</td>\n",
       "      <td>11.0</td>\n",
       "      <td>2.0</td>\n",
       "      <td>4.0</td>\n",
       "      <td>0.0</td>\n",
       "      <td>4.0</td>\n",
       "      <td>1.0</td>\n",
       "      <td>38.0</td>\n",
       "      <td>-0.042642</td>\n",
       "      <td>-0.947095</td>\n",
       "      <td>-0.420060</td>\n",
       "      <td>-0.145920</td>\n",
       "      <td>-0.21666</td>\n",
       "      <td>0.774468</td>\n",
       "    </tr>\n",
       "    <tr>\n",
       "      <th>2</th>\n",
       "      <td>1.0</td>\n",
       "      <td>7.0</td>\n",
       "      <td>2.0</td>\n",
       "      <td>10.0</td>\n",
       "      <td>0.0</td>\n",
       "      <td>4.0</td>\n",
       "      <td>1.0</td>\n",
       "      <td>38.0</td>\n",
       "      <td>-0.775768</td>\n",
       "      <td>1.394362</td>\n",
       "      <td>0.746039</td>\n",
       "      <td>-0.145920</td>\n",
       "      <td>-0.21666</td>\n",
       "      <td>-0.035429</td>\n",
       "    </tr>\n",
       "    <tr>\n",
       "      <th>3</th>\n",
       "      <td>3.0</td>\n",
       "      <td>15.0</td>\n",
       "      <td>2.0</td>\n",
       "      <td>6.0</td>\n",
       "      <td>0.0</td>\n",
       "      <td>2.0</td>\n",
       "      <td>1.0</td>\n",
       "      <td>38.0</td>\n",
       "      <td>0.397233</td>\n",
       "      <td>-0.279070</td>\n",
       "      <td>-0.031360</td>\n",
       "      <td>0.895083</td>\n",
       "      <td>-0.21666</td>\n",
       "      <td>-0.035429</td>\n",
       "    </tr>\n",
       "    <tr>\n",
       "      <th>4</th>\n",
       "      <td>NaN</td>\n",
       "      <td>15.0</td>\n",
       "      <td>4.0</td>\n",
       "      <td>NaN</td>\n",
       "      <td>3.0</td>\n",
       "      <td>4.0</td>\n",
       "      <td>0.0</td>\n",
       "      <td>38.0</td>\n",
       "      <td>-1.508894</td>\n",
       "      <td>-0.817458</td>\n",
       "      <td>-0.031360</td>\n",
       "      <td>-0.145920</td>\n",
       "      <td>-0.21666</td>\n",
       "      <td>-0.845327</td>\n",
       "    </tr>\n",
       "  </tbody>\n",
       "</table>\n",
       "</div>"
      ],
      "text/plain": [
       "   workclass  education  marital-status  occupation  relationship  race  sex  \\\n",
       "0        3.0        1.0             4.0         6.0           3.0   2.0  1.0   \n",
       "1        3.0       11.0             2.0         4.0           0.0   4.0  1.0   \n",
       "2        1.0        7.0             2.0        10.0           0.0   4.0  1.0   \n",
       "3        3.0       15.0             2.0         6.0           0.0   2.0  1.0   \n",
       "4        NaN       15.0             4.0         NaN           3.0   4.0  0.0   \n",
       "\n",
       "   native-country       age    fnlwgt  education-num  capital-gain  \\\n",
       "0            38.0 -0.995706  0.350774      -1.197459     -0.145920   \n",
       "1            38.0 -0.042642 -0.947095      -0.420060     -0.145920   \n",
       "2            38.0 -0.775768  1.394362       0.746039     -0.145920   \n",
       "3            38.0  0.397233 -0.279070      -0.031360      0.895083   \n",
       "4            38.0 -1.508894 -0.817458      -0.031360     -0.145920   \n",
       "\n",
       "   capital-loss  hours-per-week  \n",
       "0      -0.21666       -0.035429  \n",
       "1      -0.21666        0.774468  \n",
       "2      -0.21666       -0.035429  \n",
       "3      -0.21666       -0.035429  \n",
       "4      -0.21666       -0.845327  "
      ]
     },
     "execution_count": 12,
     "metadata": {},
     "output_type": "execute_result"
    }
   ],
   "source": [
    "test_encoded = pd.concat([cat_enc.transform(test), num_enc.transform(test)], axis=1)\n",
    "test_encoded.head()"
   ]
  },
  {
   "cell_type": "code",
   "execution_count": 13,
   "metadata": {},
   "outputs": [],
   "source": [
    "labels, features = train['income'], train_encoded\n",
    "labels_test, features_test = test['income'], test_encoded"
   ]
  },
  {
   "cell_type": "markdown",
   "metadata": {},
   "source": [
    "## 2. Train models\n",
    "Before going to training, let's define our evaluation metric. Since the task is binary classification, I will use ROC-AUC for evaluation."
   ]
  },
  {
   "cell_type": "code",
   "execution_count": 14,
   "metadata": {},
   "outputs": [],
   "source": [
    "from sklearn.metrics import roc_auc_score, make_scorer\n",
    "from kuma_utils.training import Trainer, auc_metric, acc_metric"
   ]
  },
  {
   "cell_type": "markdown",
   "metadata": {},
   "source": [
    "### 2.1 Trainer"
   ]
  },
  {
   "cell_type": "code",
   "execution_count": 15,
   "metadata": {},
   "outputs": [],
   "source": [
    "x_train, x_valid, y_train, y_valid = train_test_split(features, labels, test_size=0.2)"
   ]
  },
  {
   "cell_type": "code",
   "execution_count": 16,
   "metadata": {
    "tags": []
   },
   "outputs": [
    {
     "name": "stdout",
     "output_type": "stream",
     "text": [
      "Logger created at 24/02/13:05:12:16\n",
      "Training until validation scores don't improve for 10 rounds\n",
      "[10]\ttraining's auc: 0.917162\tvalid_1's auc: 0.91594\n",
      "[20]\ttraining's auc: 0.926353\tvalid_1's auc: 0.922867\n",
      "[30]\ttraining's auc: 0.931242\tvalid_1's auc: 0.925859\n",
      "[40]\ttraining's auc: 0.935573\tvalid_1's auc: 0.928857\n",
      "[50]\ttraining's auc: 0.939089\tvalid_1's auc: 0.930145\n",
      "[60]\ttraining's auc: 0.941716\tvalid_1's auc: 0.930286\n",
      "[70]\ttraining's auc: 0.944161\tvalid_1's auc: 0.930419\n",
      "[80]\ttraining's auc: 0.946285\tvalid_1's auc: 0.930823\n",
      "[90]\ttraining's auc: 0.948072\tvalid_1's auc: 0.931184\n",
      "[100]\ttraining's auc: 0.949956\tvalid_1's auc: 0.931362\n",
      "[110]\ttraining's auc: 0.951377\tvalid_1's auc: 0.931317\n",
      "Early stopping, best iteration is:\n",
      "[101]\ttraining's auc: 0.950067\tvalid_1's auc: 0.931467\n"
     ]
    }
   ],
   "source": [
    "params = {\n",
    "    'objective': 'binary',\n",
    "    'metric': 'auc',\n",
    "    'verbosity': 0,\n",
    "    # 'device':'gpu'\n",
    "}\n",
    "fit_params = {\n",
    "    'num_boost_round': 500,\n",
    "    'callbacks': [lgb.early_stopping(stopping_rounds=10), lgb.log_evaluation(10)]\n",
    "}\n",
    "\n",
    "trn = Trainer(LGBMClassifier)\n",
    "trn.train(\n",
    "    train_data=(x_train, y_train), \n",
    "    valid_data=(x_valid, y_valid),\n",
    "    cat_features=categorical_index,\n",
    "    # logger='path_to_log', \n",
    "    params=params, fit_params=fit_params, \n",
    ")"
   ]
  },
  {
   "cell_type": "code",
   "execution_count": 17,
   "metadata": {},
   "outputs": [
    {
     "data": {
      "text/plain": [
       "Trainer: trainer0\n",
       "model: LGBMClassifier()\n",
       "is_trained: True\n",
       "best_iteration: 101\n",
       "best_score: 0.9314674567101652"
      ]
     },
     "execution_count": 17,
     "metadata": {},
     "output_type": "execute_result"
    }
   ],
   "source": [
    "trn"
   ]
  },
  {
   "cell_type": "code",
   "execution_count": 18,
   "metadata": {},
   "outputs": [
    {
     "data": {
      "text/plain": [
       "0.9261316307095387"
      ]
     },
     "execution_count": 18,
     "metadata": {},
     "output_type": "execute_result"
    }
   ],
   "source": [
    "roc_auc_score(labels_test, trn.predict_proba(features_test)[:, 1])"
   ]
  },
  {
   "cell_type": "markdown",
   "metadata": {},
   "source": [
    "### 2.2 Automated hyperparameter tuning\n",
    "Also, Trainer class has a built-in optuna function. Just set `tune_model=True` and it will search the best hyperparameters. Don't forget to set `n_trials` or `timeout` to prevent endless tuning (For LightGBM models, tuning will be terminated by itself).\n",
    "\n",
    "**Model tuning for lightgbm is currently work in progress due to breaking changes :(**"
   ]
  },
  {
   "cell_type": "code",
   "execution_count": 19,
   "metadata": {},
   "outputs": [],
   "source": [
    "params = {\n",
    "    'objective': 'binary',\n",
    "    'metric': 'auc',\n",
    "    'verbosity': -1,\n",
    "    # 'device': 'gpu',\n",
    "}\n",
    "fit_params = {\n",
    "    'num_boost_round': 100,\n",
    "    'callbacks': [lgb.early_stopping(stopping_rounds=10, verbose=False)]\n",
    "}"
   ]
  },
  {
   "cell_type": "code",
   "execution_count": 20,
   "metadata": {
    "tags": []
   },
   "outputs": [
    {
     "name": "stdout",
     "output_type": "stream",
     "text": [
      "Logger created at 24/02/13:05:12:18\n"
     ]
    },
    {
     "name": "stdout",
     "output_type": "stream",
     "text": [
      "05:12:20 [trial    0] New best: 0.931650 \n",
      "{'feature_fraction': 0.8}\n",
      "05:12:22 [trial    1] New best: 0.931873 \n",
      "{'feature_fraction': 0.5}\n",
      "05:12:33 [trial    7] New best: 0.928402 \n",
      "{'num_leaves': 181}\n",
      "05:12:35 [trial    8] New best: 0.928947 \n",
      "{'num_leaves': 225}\n",
      "05:12:37 [trial    9] New best: 0.930524 \n",
      "{'num_leaves': 116}\n",
      "05:12:42 [trial   12] New best: 0.930823 \n",
      "{'num_leaves': 99}\n",
      "05:12:43 [trial   13] New best: 0.931527 \n",
      "{'num_leaves': 66}\n"
     ]
    }
   ],
   "source": [
    "trn = Trainer(LGBMClassifier)\n",
    "trn.train(\n",
    "    train_data=(x_train, y_train), \n",
    "    valid_data=(x_valid, y_valid),\n",
    "    cat_features=categorical_index,\n",
    "    params=params, fit_params=fit_params,\n",
    "    tune_model=True, timeout=30\n",
    ")"
   ]
  },
  {
   "cell_type": "code",
   "execution_count": 21,
   "metadata": {},
   "outputs": [
    {
     "data": {
      "text/plain": [
       "0.9270918396044244"
      ]
     },
     "execution_count": 21,
     "metadata": {},
     "output_type": "execute_result"
    }
   ],
   "source": [
    "roc_auc_score(labels_test, trn.predict_proba(features_test)[:, 1])"
   ]
  },
  {
   "cell_type": "code",
   "execution_count": 22,
   "metadata": {},
   "outputs": [
    {
     "data": {
      "text/plain": [
       "Trainer: trainer0\n",
       "model: LGBMClassifier()\n",
       "is_trained: True\n",
       "best_iteration: 65\n",
       "best_score: 0.9318727523706881"
      ]
     },
     "execution_count": 22,
     "metadata": {},
     "output_type": "execute_result"
    }
   ],
   "source": [
    "trn"
   ]
  },
  {
   "cell_type": "markdown",
   "metadata": {},
   "source": [
    "### 2.3 Custom metrics"
   ]
  },
  {
   "cell_type": "code",
   "execution_count": 23,
   "metadata": {
    "tags": []
   },
   "outputs": [
    {
     "name": "stdout",
     "output_type": "stream",
     "text": [
      "specify optimization direction for metric SensitivityAtFixedSpecificity.\n",
      "Logger created at 24/02/13:05:12:49\n",
      "Training until validation scores don't improve for 50 rounds\n",
      "[25]\ttraining's SensitivityAtFixedSpecificity: 0.762997\tvalid_1's SensitivityAtFixedSpecificity: 0.748912\n",
      "[50]\ttraining's SensitivityAtFixedSpecificity: 0.789153\tvalid_1's SensitivityAtFixedSpecificity: 0.766936\n",
      "[75]\ttraining's SensitivityAtFixedSpecificity: 0.808729\tvalid_1's SensitivityAtFixedSpecificity: 0.777502\n",
      "[100]\ttraining's SensitivityAtFixedSpecificity: 0.824294\tvalid_1's SensitivityAtFixedSpecificity: 0.775016\n",
      "Early stopping, best iteration is:\n",
      "[73]\ttraining's SensitivityAtFixedSpecificity: 0.807445\tvalid_1's SensitivityAtFixedSpecificity: 0.777502\n"
     ]
    }
   ],
   "source": [
    "from kuma_utils.metrics import SensitivityAtFixedSpecificity\n",
    "\n",
    "params = {\n",
    "    'objective': 'binary',\n",
    "    'metric': 'SensitivityAtFixedSpecificity',\n",
    "    'verbose': -1\n",
    "}\n",
    "fit_params = {\n",
    "    'num_boost_round': 500,\n",
    "    'callbacks': [lgb.early_stopping(stopping_rounds=50), lgb.log_evaluation(25)],\n",
    "    'feval': SensitivityAtFixedSpecificity(sp=0.9).lgbm\n",
    "}\n",
    "\n",
    "trn = Trainer(LGBMClassifier)\n",
    "trn.train(\n",
    "    train_data=(x_train, y_train), \n",
    "    valid_data=(x_valid, y_valid),\n",
    "    cat_features=categorical_index,\n",
    "    # logger='path_to_log', \n",
    "    params=params, fit_params=fit_params, \n",
    ")"
   ]
  },
  {
   "cell_type": "markdown",
   "metadata": {},
   "source": [
    "### 2.4 Visualize the results"
   ]
  },
  {
   "cell_type": "code",
   "execution_count": 24,
   "metadata": {},
   "outputs": [
    {
     "data": {
      "image/png": "[encoded data removed]",
      "text/plain": [
       "<Figure size 500x466.667 with 1 Axes>"
      ]
     },
     "metadata": {},
     "output_type": "display_data"
    },
    {
     "data": {
      "image/png": "[encoded data removed]",
      "text/plain": [
       "<Figure size 500x466.667 with 1 Axes>"
      ]
     },
     "metadata": {},
     "output_type": "display_data"
    },
    {
     "data": {
      "image/png": "[encoded data removed]",
      "text/plain": [
       "<Figure size 500x466.667 with 1 Axes>"
      ]
     },
     "metadata": {},
     "output_type": "display_data"
    }
   ],
   "source": [
    "trn.plot_feature_importance()\n",
    "trn.plot_feature_importance(importance_type='gain')\n",
    "trn.plot_feature_importance(\n",
    "    importance_type='permutation', fit_params={\n",
    "        'X': x_valid, 'y': y_valid, 'scoring': make_scorer(roc_auc_score), 'n_jobs': -1})"
   ]
  },
  {
   "cell_type": "code",
   "execution_count": 25,
   "metadata": {},
   "outputs": [
    {
     "data": {
      "image/png": "[encoded data removed]",
      "text/plain": [
       "<Figure size 400x600 with 2 Axes>"
      ]
     },
     "metadata": {},
     "output_type": "display_data"
    }
   ],
   "source": [
    "trn.plot_calibration_curve(data=(x_train, y_train))"
   ]
  },
  {
   "cell_type": "markdown",
   "metadata": {},
   "source": [
    "### 2.5 Save and load Trainer"
   ]
  },
  {
   "cell_type": "code",
   "execution_count": 26,
   "metadata": {},
   "outputs": [
    {
     "data": {
      "text/plain": [
       "Trainer: trainer0\n",
       "model: LGBMClassifier()\n",
       "is_trained: True\n",
       "best_iteration: 73\n",
       "best_score: 0.6407706650093226"
      ]
     },
     "execution_count": 26,
     "metadata": {},
     "output_type": "execute_result"
    }
   ],
   "source": [
    "trn.save('lgbm0.trainer')\n",
    "trn = Trainer(path='lgbm0.trainer')\n",
    "trn"
   ]
  },
  {
   "cell_type": "markdown",
   "metadata": {},
   "source": [
    "### 2.6 Train other models"
   ]
  },
  {
   "cell_type": "code",
   "execution_count": 27,
   "metadata": {
    "tags": []
   },
   "outputs": [
    {
     "name": "stdout",
     "output_type": "stream",
     "text": [
      "Logger created at 24/02/13:05:12:54\n",
      "05:12:54 [trial    0] New best: 0.837947 \n",
      "{ 'boosting_type': 'Plain',\n",
      "  'bootstrap_type': 'MVS',\n",
      "  'colsample_bylevel': 0.01010673328243319,\n",
      "  'depth': 5,\n",
      "  'objective': 'Logloss'}\n"
     ]
    },
    {
     "name": "stderr",
     "output_type": "stream",
     "text": [
      "/home/hiroshi_yoshihara/misc/kuma_utils/kuma_utils/training/trainer.py:197: ExperimentalWarning: CatBoostPruningCallback is experimental (supported from v3.0.0). The interface can change in the future.\n",
      "  pruning_callback = optuna.integration.CatBoostPruningCallback(trial, main_metric)\n"
     ]
    },
    {
     "name": "stdout",
     "output_type": "stream",
     "text": [
      "05:12:54 [trial    1] New best: 0.896411 \n",
      "{ 'boosting_type': 'Ordered',\n",
      "  'bootstrap_type': 'MVS',\n",
      "  'colsample_bylevel': 0.04419687038009731,\n",
      "  'depth': 2,\n",
      "  'objective': 'CrossEntropy'}\n",
      "05:12:54 [trial    4] New best: 0.917409 \n",
      "{ 'boosting_type': 'Plain',\n",
      "  'bootstrap_type': 'MVS',\n",
      "  'colsample_bylevel': 0.07349235634558501,\n",
      "  'depth': 11,\n",
      "  'objective': 'Logloss'}\n",
      "05:12:55 [trial   10] New best: 0.918572 \n",
      "{ 'boosting_type': 'Plain',\n",
      "  'bootstrap_type': 'MVS',\n",
      "  'colsample_bylevel': 0.08903310148964917,\n",
      "  'depth': 12,\n",
      "  'objective': 'Logloss'}\n",
      "05:12:55 [trial   14] New best: 0.919479 \n",
      "{ 'boosting_type': 'Plain',\n",
      "  'bootstrap_type': 'MVS',\n",
      "  'colsample_bylevel': 0.0995792173243504,\n",
      "  'depth': 12,\n",
      "  'objective': 'Logloss'}\n"
     ]
    }
   ],
   "source": [
    "params = {\n",
    "    'objective': 'Logloss',\n",
    "    'eval_metric': 'AUC',\n",
    "    'iterations': 100,\n",
    "    'use_best_model': True,\n",
    "    # 'task_type': 'GPU',\n",
    "} \n",
    "fit_params = {\n",
    "    'early_stopping_rounds': 10,\n",
    "    'verbose_eval': 0\n",
    "}\n",
    "\n",
    "# Preprecessing for CatBoost\n",
    "x_train_cat = x_train.copy()\n",
    "x_valid_cat = x_valid.copy()\n",
    "features_test_cat = features_test.copy()\n",
    "x_train_cat.iloc[:, categorical_index] = x_train_cat.iloc[:, categorical_index].astype('str')\n",
    "x_valid_cat.iloc[:, categorical_index] = x_valid_cat.iloc[:, categorical_index].astype('str')\n",
    "features_test_cat.iloc[:, categorical_index] = features_test_cat.iloc[:, categorical_index].astype('str')\n",
    "\n",
    "\n",
    "trn2 = Trainer(CatBoostClassifier)\n",
    "trn2.train(\n",
    "    train_data=(x_train_cat, y_train), \n",
    "    valid_data=(x_valid_cat, y_valid),\n",
    "    cat_features=categorical_index,\n",
    "    params=params, fit_params=fit_params,\n",
    "    tune_model=True, n_trials=20,\n",
    ")"
   ]
  },
  {
   "cell_type": "code",
   "execution_count": 28,
   "metadata": {},
   "outputs": [
    {
     "data": {
      "text/plain": [
       "0.9161367138240013"
      ]
     },
     "execution_count": 28,
     "metadata": {},
     "output_type": "execute_result"
    }
   ],
   "source": [
    "roc_auc_score(labels_test, trn2.smart_predict(features_test_cat))"
   ]
  },
  {
   "cell_type": "code",
   "execution_count": 29,
   "metadata": {
    "tags": []
   },
   "outputs": [
    {
     "name": "stdout",
     "output_type": "stream",
     "text": [
      "Logger created at 24/02/13:05:12:56\n",
      "05:12:57 [trial    0] New best: 0.900744 \n",
      "{ 'alpha': 1.7668377799519403e-08,\n",
      "  'booster': 'dart',\n",
      "  'eta': 2.1855137807040305e-07,\n",
      "  'gamma': 4.90745192877647e-07,\n",
      "  'grow_policy': 'lossguide',\n",
      "  'lambda': 2.368504574677061e-08,\n",
      "  'max_depth': 7,\n",
      "  'normalize_type': 'forest',\n",
      "  'rate_drop': 0.00011130569718755033,\n",
      "  'sample_type': 'weighted',\n",
      "  'skip_drop': 1.0263169562762707e-06}\n",
      "05:12:57 [trial    2] New best: 0.906619 \n",
      "{ 'alpha': 0.197931496304888,\n",
      "  'booster': 'dart',\n",
      "  'eta': 2.518144231452249e-05,\n",
      "  'gamma': 0.019921284586567025,\n",
      "  'grow_policy': 'lossguide',\n",
      "  'lambda': 2.7748141097379532e-06,\n",
      "  'max_depth': 9,\n",
      "  'normalize_type': 'tree',\n",
      "  'rate_drop': 1.4086214180225573e-06,\n",
      "  'sample_type': 'weighted',\n",
      "  'skip_drop': 0.0013672238588231759}\n",
      "05:12:57 [trial   11] New best: 0.907033 \n",
      "{ 'alpha': 2.5206125804635425e-05,\n",
      "  'booster': 'gbtree',\n",
      "  'eta': 0.0003001832867938453,\n",
      "  'gamma': 0.8208552629394782,\n",
      "  'grow_policy': 'depthwise',\n",
      "  'lambda': 0.8324888971678231,\n",
      "  'max_depth': 9}\n"
     ]
    }
   ],
   "source": [
    "params = {\n",
    "    'booster': 'gbtree', \n",
    "    'objective': 'binary:logistic',\n",
    "    'eval_metric': 'auc',\n",
    "    'verbosity': 0,\n",
    "    'num_boost_round': 100,\n",
    "    'tree_method': 'gpu_hist'\n",
    "}\n",
    "fit_params = {\n",
    "    'early_stopping_rounds': 10,\n",
    "    'verbose_eval': 0\n",
    "}\n",
    "\n",
    "trn3 = Trainer(XGBClassifier)\n",
    "trn3.train(\n",
    "    train_data=(x_train, y_train), \n",
    "    valid_data=(x_valid, y_valid),\n",
    "    cat_features=categorical_index,\n",
    "    params=params,\n",
    "    eval_metric=auc_metric, maximize=True,\n",
    "    tune_model=True, n_trials=20,\n",
    "    fit_params=fit_params)"
   ]
  },
  {
   "cell_type": "code",
   "execution_count": 30,
   "metadata": {},
   "outputs": [
    {
     "data": {
      "text/plain": [
       "0.9022800622519473"
      ]
     },
     "execution_count": 30,
     "metadata": {},
     "output_type": "execute_result"
    }
   ],
   "source": [
    "roc_auc_score(labels_test, trn3.predict_proba(features_test)[:, 1])"
   ]
  },
  {
   "cell_type": "code",
   "execution_count": 31,
   "metadata": {},
   "outputs": [
    {
     "data": {
      "image/png": "[encoded data removed]",
      "text/plain": [
       "<Figure size 500x466.667 with 1 Axes>"
      ]
     },
     "metadata": {},
     "output_type": "display_data"
    }
   ],
   "source": [
    "trn3.plot_feature_importance(\n",
    "    'permutation', fit_params={\n",
    "        'X': x_valid, 'y': y_valid, 'scoring': make_scorer(roc_auc_score), 'n_jobs': -1})"
   ]
  },
  {
   "cell_type": "markdown",
   "metadata": {},
   "source": [
    "## 3. Cross validate models\n",
    "\n",
    "### 3.1 Trainer.cv()"
   ]
  },
  {
   "cell_type": "code",
   "execution_count": 32,
   "metadata": {
    "tags": []
   },
   "outputs": [
    {
     "name": "stdout",
     "output_type": "stream",
     "text": [
      "Logger created at 24/02/13:05:12:59\n",
      "Training until validation scores don't improve for 50 rounds\n",
      "[25]\tcv_agg's valid auc: 0.922025 + 0.00264879\n",
      "[50]\tcv_agg's valid auc: 0.927481 + 0.00227593\n",
      "[75]\tcv_agg's valid auc: 0.928261 + 0.00211113\n",
      "[100]\tcv_agg's valid auc: 0.928544 + 0.00212961\n",
      "Did not meet early stopping. Best iteration is:\n",
      "[96]\tcv_agg's valid auc: 0.928548 + 0.00216293\n",
      "05:13:05 [96]\tbest score is 0.928548\n"
     ]
    }
   ],
   "source": [
    "params = {\n",
    "    'objective': 'binary',\n",
    "    'metric': 'auc',\n",
    "    'verbose': -1\n",
    "}\n",
    "fit_params = {\n",
    "    'num_boost_round': 100,\n",
    "    'callbacks': [lgb.early_stopping(stopping_rounds=50), lgb.log_evaluation(25)]\n",
    "}\n",
    "\n",
    "trn = Trainer(LGBMClassifier)\n",
    "trn.cv(\n",
    "    data=(features, labels), \n",
    "    cat_features=categorical_index,\n",
    "    folds=StratifiedKFold(n_splits=5), \n",
    "    params=params, fit_params=fit_params, \n",
    ")"
   ]
  },
  {
   "cell_type": "code",
   "execution_count": 33,
   "metadata": {},
   "outputs": [
    {
     "data": {
      "text/plain": [
       "Trainer: trainer0\n",
       "model: [LGBMClassifier(), LGBMClassifier(), LGBMClassifier(), LGBMClassifier(), LGBMClassifier()]\n",
       "is_trained: True\n",
       "best_iteration: 96\n",
       "best_score: 0.9285480621915914"
      ]
     },
     "execution_count": 33,
     "metadata": {},
     "output_type": "execute_result"
    }
   ],
   "source": [
    "trn"
   ]
  },
  {
   "cell_type": "code",
   "execution_count": 34,
   "metadata": {},
   "outputs": [
    {
     "data": {
      "text/plain": [
       "0.9281075947501107"
      ]
     },
     "execution_count": 34,
     "metadata": {},
     "output_type": "execute_result"
    }
   ],
   "source": [
    "roc_auc_score(labels_test, np.stack(trn.smart_predict(features_test)).mean(0))"
   ]
  },
  {
   "cell_type": "markdown",
   "metadata": {},
   "source": [
    "Note that `Trainer.cv()` is equivalent to `lightgbm.cv()` or `xgboost.cv()`. \n",
    "\n",
    "Otherwise, there is a `CrossValidator` class in which you can control details of cross validation operation."
   ]
  },
  {
   "cell_type": "markdown",
   "metadata": {},
   "source": [
    "### 3.2 Automated hyperparameter tuning for Trainer.cv()"
   ]
  },
  {
   "cell_type": "code",
   "execution_count": 35,
   "metadata": {},
   "outputs": [
    {
     "name": "stdout",
     "output_type": "stream",
     "text": [
      "Logger created at 24/02/13:05:13:05\n"
     ]
    },
    {
     "name": "stdout",
     "output_type": "stream",
     "text": [
      "05:13:06 [trial    0] New best: 0.928548 \n",
      "{'feature_fraction': 1.0}\n",
      "05:13:07 [trial    1] New best: 0.929275 \n",
      "{'feature_fraction': 0.4}\n",
      "05:13:08 [trial    2] New best: 0.929516 \n",
      "{'feature_fraction': 0.5}\n",
      "05:13:13 [trial    7] New best: 0.927339 \n",
      "{'num_leaves': 115}\n",
      "05:13:15 [trial    8] New best: 0.928871 \n",
      "{'num_leaves': 52}\n",
      "05:13:22 [trial   11] New best: 0.929088 \n",
      "{'num_leaves': 15}\n",
      "05:13:36 [99]\tbest score is 0.929516\n"
     ]
    }
   ],
   "source": [
    "params = {\n",
    "    'objective': 'binary',\n",
    "    'metric': 'auc',\n",
    "    'verbose': -1,\n",
    "    'n_jobs': 16\n",
    "}\n",
    "fit_params = {\n",
    "    'num_boost_round': 100,\n",
    "    'callbacks': [lgb.early_stopping(stopping_rounds=50, verbose=False)]\n",
    "}\n",
    "\n",
    "trn = Trainer(LGBMClassifier)\n",
    "trn.cv(\n",
    "    data=(features, labels), \n",
    "    cat_features=categorical_index,\n",
    "    folds=StratifiedKFold(n_splits=5), \n",
    "    params=params, fit_params=fit_params, \n",
    "    tune_model=True, timeout=30\n",
    ")"
   ]
  },
  {
   "cell_type": "code",
   "execution_count": 36,
   "metadata": {},
   "outputs": [
    {
     "name": "stdout",
     "output_type": "stream",
     "text": [
      "Logger created at 24/02/13:05:13:36\n",
      "05:13:37 [trial    0] New best: 0.896495 \n",
      "{ 'bagging_temperature': 9.03090976897709,\n",
      "  'boosting_type': 'Plain',\n",
      "  'bootstrap_type': 'Bayesian',\n",
      "  'colsample_bylevel': 0.07913696310495388,\n",
      "  'depth': 5,\n",
      "  'objective': 'CrossEntropy'}\n",
      "05:13:43 [trial    6] New best: 0.900576 \n",
      "{ 'boosting_type': 'Plain',\n",
      "  'bootstrap_type': 'Bernoulli',\n",
      "  'colsample_bylevel': 0.09615764506227847,\n",
      "  'depth': 7,\n",
      "  'objective': 'CrossEntropy',\n",
      "  'subsample': 0.36787116332216263}\n",
      "05:13:52 [trial   13] New best: 0.901289 \n",
      "{ 'bagging_temperature': 6.269316860132169,\n",
      "  'boosting_type': 'Plain',\n",
      "  'bootstrap_type': 'Bayesian',\n",
      "  'colsample_bylevel': 0.08119355215086778,\n",
      "  'depth': 4,\n",
      "  'objective': 'CrossEntropy'}\n",
      "05:13:55 [trial   16] New best: 0.904484 \n",
      "{ 'bagging_temperature': 5.774138688159145,\n",
      "  'boosting_type': 'Plain',\n",
      "  'bootstrap_type': 'Bayesian',\n",
      "  'colsample_bylevel': 0.09877364498652241,\n",
      "  'depth': 8,\n",
      "  'objective': 'CrossEntropy'}\n",
      "05:14:06 [62]\tbest score is 0.904484\n"
     ]
    }
   ],
   "source": [
    "params = {\n",
    "    'objective': 'Logloss',\n",
    "    'eval_metric': 'AUC',\n",
    "    'iterations': 100,\n",
    "    'use_best_model': True,\n",
    "    'thread_count': 16\n",
    "} \n",
    "fit_params = {\n",
    "    'early_stopping_rounds': 10,\n",
    "    'logging_level': 'Silent'\n",
    "}\n",
    "\n",
    "trn = Trainer(CatBoostClassifier)\n",
    "trn.cv(\n",
    "    data=(\n",
    "        pd.concat([x_train_cat, x_valid_cat], axis=0), \n",
    "        pd.concat([y_train, y_valid], axis=0)), \n",
    "    cat_features=categorical_index,\n",
    "    folds=StratifiedKFold(n_splits=5), \n",
    "    params=params, fit_params=fit_params,\n",
    "    tune_model=True, timeout=30,\n",
    ")"
   ]
  },
  {
   "cell_type": "code",
   "execution_count": 37,
   "metadata": {},
   "outputs": [
    {
     "name": "stdout",
     "output_type": "stream",
     "text": [
      "Logger created at 24/02/13:05:14:06\n",
      "05:14:07 [trial    0] New best: 0.901430 \n",
      "{ 'alpha': 1.5997170225114794e-07,\n",
      "  'booster': 'dart',\n",
      "  'eta': 3.53416701619927e-06,\n",
      "  'gamma': 1.80667412719044e-05,\n",
      "  'grow_policy': 'depthwise',\n",
      "  'lambda': 0.09947786983139771,\n",
      "  'max_depth': 8,\n",
      "  'normalize_type': 'forest',\n",
      "  'rate_drop': 0.10355453998328897,\n",
      "  'sample_type': 'uniform',\n",
      "  'skip_drop': 4.4645345526747703e-07}\n",
      "05:14:09 [trial    5] New best: 0.908044 \n",
      "{ 'alpha': 0.0946642493014313,\n",
      "  'booster': 'gbtree',\n",
      "  'eta': 0.031818285339477975,\n",
      "  'gamma': 8.743632393483709e-06,\n",
      "  'grow_policy': 'depthwise',\n",
      "  'lambda': 4.507510988378103e-06,\n",
      "  'max_depth': 9}\n",
      "05:14:12 [trial   12] New best: 0.917978 \n",
      "{ 'alpha': 0.017033993450604554,\n",
      "  'booster': 'gbtree',\n",
      "  'eta': 0.6797979103677734,\n",
      "  'gamma': 7.280382734704621e-07,\n",
      "  'grow_policy': 'depthwise',\n",
      "  'lambda': 1.6255238354990753e-05,\n",
      "  'max_depth': 9}\n",
      "05:14:13 [trial   14] New best: 0.921937 \n",
      "{ 'alpha': 0.008803221764957405,\n",
      "  'booster': 'gbtree',\n",
      "  'eta': 0.6885889914296409,\n",
      "  'gamma': 8.449727419590635e-07,\n",
      "  'grow_policy': 'depthwise',\n",
      "  'lambda': 4.9985855689017943e-05,\n",
      "  'max_depth': 7}\n",
      "05:14:36 [8]\tbest score is 0.921937\n"
     ]
    }
   ],
   "source": [
    "params = {\n",
    "    'booster': 'gbtree', \n",
    "    'objective': 'binary:logistic',\n",
    "    'eval_metric': 'auc',\n",
    "    'verbosity': 0,\n",
    "    'num_round': 100,\n",
    "    'n_jobs': 16\n",
    "}\n",
    "fit_params = {\n",
    "    'early_stopping_rounds': 10,\n",
    "    'verbose_eval': 0\n",
    "}\n",
    "\n",
    "trn = Trainer(XGBClassifier)\n",
    "trn.cv(\n",
    "    data=(features, labels), \n",
    "    cat_features=categorical_index,\n",
    "    folds=StratifiedKFold(n_splits=5),\n",
    "    tune_model=True, timeout=30,\n",
    "    params=params, fit_params=fit_params)"
   ]
  },
  {
   "cell_type": "markdown",
   "metadata": {},
   "source": [
    "### 3.3 CrossValidator"
   ]
  },
  {
   "cell_type": "code",
   "execution_count": 38,
   "metadata": {},
   "outputs": [],
   "source": [
    "from kuma_utils.training import CrossValidator"
   ]
  },
  {
   "cell_type": "code",
   "execution_count": 39,
   "metadata": {
    "tags": []
   },
   "outputs": [
    {
     "name": "stdout",
     "output_type": "stream",
     "text": [
      "Logger created at 24/02/13:05:14:36\n",
      "05:14:36 [cv0] Starting fold 0\n",
      "05:14:38 [cv0] Fold 0: eval=0.925781 (iter=99)\n",
      "05:14:38 [cv0] Starting fold 1\n",
      "05:14:40 [cv0] Fold 1: eval=0.923952 (iter=97)\n",
      "05:14:40 [cv0] Starting fold 2\n",
      "05:14:42 [cv0] Fold 2: eval=0.929432 (iter=100)\n",
      "05:14:42 [cv0] Starting fold 3\n",
      "05:14:43 [cv0] Fold 3: eval=0.928901 (iter=96)\n",
      "05:14:43 [cv0] Starting fold 4\n",
      "05:14:45 [cv0] Fold 4: eval=0.929409 (iter=86)\n",
      "05:14:45 [cv0] Overall metric: 0.927495 + 0.002231\n"
     ]
    }
   ],
   "source": [
    "params = {\n",
    "    'objective': 'binary',\n",
    "    'metric': 'auc',\n",
    "    'verbose': -1\n",
    "}\n",
    "fit_params = {\n",
    "    'num_boost_round': 100,\n",
    "    'callbacks': [lgb.early_stopping(stopping_rounds=50, verbose=False)]\n",
    "}\n",
    "\n",
    "\n",
    "validator = CrossValidator(LGBMClassifier)\n",
    "validator.train(\n",
    "    data=(features, labels), params=params, fit_params=fit_params,\n",
    "    folds=StratifiedKFold(n_splits=5)\n",
    ")"
   ]
  },
  {
   "cell_type": "code",
   "execution_count": 40,
   "metadata": {},
   "outputs": [
    {
     "data": {
      "text/plain": [
       "CrossValidator: cv0\n",
       "models: [Trainer: cv0_fold0\n",
       "model: LGBMClassifier()\n",
       "is_trained: True\n",
       "best_iteration: 99\n",
       "best_score: 0.9257809196590082\n",
       ", Trainer: cv0_fold1\n",
       "model: LGBMClassifier()\n",
       "is_trained: True\n",
       "best_iteration: 97\n",
       "best_score: 0.9239520899379169\n",
       ", Trainer: cv0_fold2\n",
       "model: LGBMClassifier()\n",
       "is_trained: True\n",
       "best_iteration: 100\n",
       "best_score: 0.9294320883693283\n",
       ", Trainer: cv0_fold3\n",
       "model: LGBMClassifier()\n",
       "is_trained: True\n",
       "best_iteration: 96\n",
       "best_score: 0.9289010772695\n",
       ", Trainer: cv0_fold4\n",
       "model: LGBMClassifier()\n",
       "is_trained: True\n",
       "best_iteration: 86\n",
       "best_score: 0.9294094496111551\n",
       "]\n",
       "is_trained: True\n",
       "best_score: [0.9274951249693817, 0.0022309085591902342]"
      ]
     },
     "execution_count": 40,
     "metadata": {},
     "output_type": "execute_result"
    }
   ],
   "source": [
    "validator"
   ]
  },
  {
   "cell_type": "code",
   "execution_count": 41,
   "metadata": {},
   "outputs": [
    {
     "data": {
      "text/plain": [
       "0.9275192101371228"
      ]
     },
     "execution_count": 41,
     "metadata": {},
     "output_type": "execute_result"
    }
   ],
   "source": [
    "roc_auc_score(labels_test, np.stack(validator.smart_predict(features_test)).mean(0))"
   ]
  },
  {
   "cell_type": "code",
   "execution_count": 42,
   "metadata": {},
   "outputs": [
    {
     "data": {
      "image/png": "[encoded data removed]",
      "text/plain": [
       "<Figure size 500x466.667 with 1 Axes>"
      ]
     },
     "metadata": {},
     "output_type": "display_data"
    },
    {
     "data": {
      "image/png": "[encoded data removed]",
      "text/plain": [
       "<Figure size 400x600 with 2 Axes>"
      ]
     },
     "metadata": {},
     "output_type": "display_data"
    }
   ],
   "source": [
    "validator.plot_feature_importance(),\n",
    "validator.plot_calibration_curve(data=(features, labels))"
   ]
  },
  {
   "cell_type": "code",
   "execution_count": null,
   "metadata": {},
   "outputs": [],
   "source": []
  }
 ],
 "metadata": {
  "kernelspec": {
   "display_name": "kumaenv24",
   "language": "python",
   "name": "python3"
  },
  "language_info": {
   "codemirror_mode": {
    "name": "ipython",
    "version": 3
   },
   "file_extension": ".py",
   "mimetype": "text/x-python",
   "name": "python",
   "nbconvert_exporter": "python",
   "pygments_lexer": "ipython3",
   "version": "3.10.13"
  },
  "orig_nbformat": 2
 },
 "nbformat": 4,
 "nbformat_minor": 2
}
