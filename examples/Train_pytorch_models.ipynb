{
 "cells": [
  {
   "cell_type": "markdown",
   "metadata": {},
   "source": [
    "# Tutorial: Train PyTorch Models"
   ]
  },
  {
   "cell_type": "code",
   "execution_count": 1,
   "metadata": {},
   "outputs": [],
   "source": [
    "import numpy as np\n",
    "import pandas as pd\n",
    "from sklearn import datasets\n",
    "from sklearn.model_selection import train_test_split"
   ]
  },
  {
   "cell_type": "code",
   "execution_count": 2,
   "metadata": {},
   "outputs": [],
   "source": [
    "features, labels = datasets.load_breast_cancer(return_X_y=True)\n",
    "x_train, x_valid, y_train, y_valid = train_test_split(features, labels, test_size=0.2)"
   ]
  },
  {
   "cell_type": "code",
   "execution_count": 3,
   "metadata": {},
   "outputs": [
    {
     "output_type": "execute_result",
     "data": {
      "text/plain": "((569, 30), (569,))"
     },
     "metadata": {},
     "execution_count": 3
    }
   ],
   "source": [
    "features.shape, labels.shape"
   ]
  },
  {
   "cell_type": "code",
   "execution_count": 4,
   "metadata": {
    "tags": []
   },
   "outputs": [
    {
     "output_type": "stream",
     "name": "stdout",
     "text": "torch_xla not found.\nnvidia apex not found.\n"
    }
   ],
   "source": [
    "import torch\n",
    "import torch.nn as nn\n",
    "import torch.utils.data as D\n",
    "from kuma_utils.torch import TorchTrainer, EarlyStopping, TorchLogger\n",
    "from kuma_utils.torch.model_zoo import TabularNet\n",
    "from kuma_utils.metrics import AUC, Accuracy\n",
    "from kuma_utils.utils import sigmoid"
   ]
  },
  {
   "cell_type": "code",
   "execution_count": 5,
   "metadata": {},
   "outputs": [],
   "source": [
    "train_ds = D.TensorDataset(\n",
    "    torch.as_tensor(x_train).float(),\n",
    "    torch.as_tensor(y_train.reshape(-1, 1)).float()\n",
    ")\n",
    "valid_ds = D.TensorDataset(\n",
    "    torch.as_tensor(x_valid).float(),\n",
    "    torch.as_tensor(y_valid.reshape(-1, 1)).float()\n",
    ")\n",
    "train_loader = D.DataLoader(train_ds, batch_size=64, shuffle=True)\n",
    "valid_loader = D.DataLoader(valid_ds, batch_size=64, shuffle=False)"
   ]
  },
  {
   "cell_type": "code",
   "execution_count": 6,
   "metadata": {
    "tags": []
   },
   "outputs": [
    {
     "output_type": "stream",
     "name": "stdout",
     "text": "TorchLogger created at 20/11/26:09:21:16\n"
    }
   ],
   "source": [
    "model = TabularNet(in_features=x_train.shape[1], out_features=1)\n",
    "optimizer = torch.optim.Adam(model.parameters(), lr=1e-3, weight_decay=5e-3)\n",
    "scheduler = torch.optim.lr_scheduler.ReduceLROnPlateau(\n",
    "    optimizer, 'min', factor=0.5, patience=2, verbose=True, min_lr=1e-5)\n",
    "criterion = nn.BCEWithLogitsLoss()\n",
    "LogitsAcc = lambda approx, target: AUC().torch(sigmoid(approx), target)\n",
    "\n",
    "fit_params = {\n",
    "    'loader': train_loader,\n",
    "    'loader_valid': valid_loader,\n",
    "    'criterion': criterion,\n",
    "    'optimizer': optimizer,\n",
    "    'scheduler': scheduler,\n",
    "    'num_epochs': 30,\n",
    "    'callbacks': [EarlyStopping(5, maximize=True, skip_epoch=10)],\n",
    "    'eval_metric': AUC().torch,\n",
    "    'monitor_metrics': [LogitsAcc], \n",
    "    'logger': TorchLogger('logger.log', log_items=[\n",
    "        'epoch',\n",
    "        'loss_train', 'loss_valid', 'metric_valid', 'monitor_metrics_valid', 'earlystop'\n",
    "    ], stdout=True, file=False),\n",
    "    # 'calibrate_model': True, \n",
    "    # 'snapshot_path': 'results/baseline/',\n",
    "    # 'resume': True\n",
    "}"
   ]
  },
  {
   "cell_type": "code",
   "execution_count": 7,
   "metadata": {
    "tags": []
   },
   "outputs": [
    {
     "output_type": "stream",
     "name": "stdout",
     "text": "09:21:16 Model is on cpu\n09:21:16 [Epoch   1/ 30] loss_train=4.653262 | loss_valid=0.662130 | metric_valid=0.939241 | monitor_metrics_valid=[0.939241] \n09:21:16 [Epoch   2/ 30] loss_train=2.303672 | loss_valid=0.738571 | metric_valid=0.159494 | monitor_metrics_valid=[0.159494] \n09:21:16 [Epoch   3/ 30] loss_train=1.616207 | loss_valid=0.670362 | metric_valid=0.772152 | monitor_metrics_valid=[0.772152] \n09:21:16 [Epoch   4/ 30] loss_train=1.262613 | loss_valid=0.682979 | metric_valid=0.176492 | monitor_metrics_valid=[0.176492] \nEpoch     5: reducing learning rate of group 0 to 5.0000e-04.\n09:21:16 [Epoch   5/ 30] loss_train=0.901546 | loss_valid=0.652833 | metric_valid=0.924051 | monitor_metrics_valid=[0.924051] \n09:21:16 [Epoch   6/ 30] loss_train=0.887527 | loss_valid=0.635706 | metric_valid=0.791320 | monitor_metrics_valid=[0.791320] \n09:21:16 [Epoch   7/ 30] loss_train=0.761478 | loss_valid=0.627334 | metric_valid=0.771067 | monitor_metrics_valid=[0.771067] \n09:21:16 [Epoch   8/ 30] loss_train=0.662640 | loss_valid=0.629107 | metric_valid=0.907052 | monitor_metrics_valid=[0.907052] \n09:21:16 [Epoch   9/ 30] loss_train=0.647009 | loss_valid=0.633521 | metric_valid=0.857505 | monitor_metrics_valid=[0.857505] \n09:21:16 [Epoch  10/ 30] loss_train=0.639890 | loss_valid=0.624013 | metric_valid=0.813020 | monitor_metrics_valid=[0.813020] \n09:21:16 [Epoch  11/ 30] loss_train=0.612386 | loss_valid=0.603173 | metric_valid=0.793852 | monitor_metrics_valid=[0.793852] \n09:21:16 [Epoch  12/ 30] loss_train=0.559565 | loss_valid=0.583709 | metric_valid=0.877034 | monitor_metrics_valid=[0.877034] \n09:21:16 [Epoch  13/ 30] loss_train=0.578144 | loss_valid=0.550761 | metric_valid=0.773960 | monitor_metrics_valid=[0.773960] (*1)\n09:21:16 [Epoch  14/ 30] loss_train=0.525446 | loss_valid=0.550597 | metric_valid=0.949005 | monitor_metrics_valid=[0.949005] \n09:21:16 [Epoch  15/ 30] loss_train=0.569042 | loss_valid=0.498161 | metric_valid=0.850995 | monitor_metrics_valid=[0.850995] (*1)\n09:21:16 [Epoch  16/ 30] loss_train=0.538636 | loss_valid=0.503980 | metric_valid=0.867269 | monitor_metrics_valid=[0.867269] (*2)\n09:21:16 [Epoch  17/ 30] loss_train=0.508202 | loss_valid=0.489753 | metric_valid=0.940687 | monitor_metrics_valid=[0.940687] (*3)\n09:21:16 [Epoch  18/ 30] loss_train=0.487885 | loss_valid=0.471969 | metric_valid=0.816998 | monitor_metrics_valid=[0.816998] (*4)\n09:21:16 [Epoch  19/ 30] loss_train=0.470181 | loss_valid=0.438049 | metric_valid=0.952622 | monitor_metrics_valid=[0.952622] \n09:21:16 [Epoch  20/ 30] loss_train=0.482847 | loss_valid=0.444753 | metric_valid=0.835081 | monitor_metrics_valid=[0.835081] (*1)\n09:21:16 [Epoch  21/ 30] loss_train=0.495818 | loss_valid=0.456596 | metric_valid=0.950452 | monitor_metrics_valid=[0.950452] (*2)\n09:21:16 [Epoch  22/ 30] loss_train=0.451619 | loss_valid=0.388357 | metric_valid=0.951537 | monitor_metrics_valid=[0.951537] (*3)\n09:21:16 [Epoch  23/ 30] loss_train=0.460083 | loss_valid=0.417587 | metric_valid=0.959132 | monitor_metrics_valid=[0.959132] \n09:21:16 [Epoch  24/ 30] loss_train=0.454174 | loss_valid=0.381816 | metric_valid=0.948644 | monitor_metrics_valid=[0.948644] (*1)\n09:21:16 [Epoch  25/ 30] loss_train=0.442907 | loss_valid=0.372420 | metric_valid=0.958047 | monitor_metrics_valid=[0.958047] (*2)\n09:21:16 [Epoch  26/ 30] loss_train=0.410311 | loss_valid=0.382275 | metric_valid=0.954430 | monitor_metrics_valid=[0.954430] (*3)\n09:21:16 [Epoch  27/ 30] loss_train=0.388299 | loss_valid=0.310039 | metric_valid=0.956239 | monitor_metrics_valid=[0.956239] (*4)\n09:21:16 [Epoch  28/ 30] loss_train=0.440406 | loss_valid=0.358269 | metric_valid=0.962387 | monitor_metrics_valid=[0.962387] \n09:21:16 [Epoch  29/ 30] loss_train=0.485823 | loss_valid=0.501358 | metric_valid=0.949005 | monitor_metrics_valid=[0.949005] (*1)\n09:21:16 [Epoch  30/ 30] loss_train=0.469873 | loss_valid=0.462574 | metric_valid=0.969259 | monitor_metrics_valid=[0.969259] \n09:21:16 Best epoch is [30], best score is [0.969258589511754].\n09:21:17 Prediction done. exported to None\n09:21:17 Skipping prediction...\n"
    }
   ],
   "source": [
    "trn = TorchTrainer(model)\n",
    "trn.train(**fit_params)"
   ]
  },
  {
   "cell_type": "code",
   "execution_count": null,
   "metadata": {},
   "outputs": [],
   "source": []
  }
 ],
 "metadata": {
  "language_info": {
   "codemirror_mode": {
    "name": "ipython",
    "version": 3
   },
   "file_extension": ".py",
   "mimetype": "text/x-python",
   "name": "python",
   "nbconvert_exporter": "python",
   "pygments_lexer": "ipython3",
   "version": 3
  },
  "orig_nbformat": 2,
  "kernelspec": {
   "name": "python_defaultSpec_1606382467336",
   "display_name": "Python 3.7.9 64-bit ('kumaconda': pyenv)"
  }
 },
 "nbformat": 4,
 "nbformat_minor": 2
}