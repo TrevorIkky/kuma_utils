{
 "cells": [
  {
   "cell_type": "markdown",
   "metadata": {},
   "source": [
    "# Tutorial: Train PyTorch Models"
   ]
  },
  {
   "cell_type": "code",
   "execution_count": 1,
   "metadata": {},
   "outputs": [],
   "source": [
    "import numpy as np\n",
    "import pandas as pd\n",
    "from sklearn import datasets\n",
    "from sklearn.model_selection import train_test_split"
   ]
  },
  {
   "cell_type": "code",
   "execution_count": 2,
   "metadata": {},
   "outputs": [],
   "source": [
    "features, labels = datasets.load_breast_cancer(return_X_y=True)\n",
    "x_train, x_valid, y_train, y_valid = train_test_split(features, labels, test_size=0.2)"
   ]
  },
  {
   "cell_type": "code",
   "execution_count": 3,
   "metadata": {},
   "outputs": [
    {
     "output_type": "execute_result",
     "data": {
      "text/plain": "((569, 30), (569,))"
     },
     "metadata": {},
     "execution_count": 3
    }
   ],
   "source": [
    "features.shape, labels.shape"
   ]
  },
  {
   "cell_type": "code",
   "execution_count": 4,
   "metadata": {
    "tags": []
   },
   "outputs": [
    {
     "output_type": "stream",
     "name": "stdout",
     "text": "torch_xla not found.\nnvidia apex not found.\n"
    }
   ],
   "source": [
    "import torch\n",
    "import torch.nn as nn\n",
    "import torch.utils.data as D\n",
    "from kuma_utils.torch import TorchTrainer, EarlyStopping, TorchLogger\n",
    "from kuma_utils.torch.model_zoo import TabularNet\n",
    "from kuma_utils.metrics import AUC, Accuracy\n",
    "from kuma_utils.utils import sigmoid"
   ]
  },
  {
   "cell_type": "code",
   "execution_count": 5,
   "metadata": {},
   "outputs": [],
   "source": [
    "train_ds = D.TensorDataset(\n",
    "    torch.as_tensor(x_train).float(),\n",
    "    torch.as_tensor(y_train.reshape(-1, 1)).float()\n",
    ")\n",
    "valid_ds = D.TensorDataset(\n",
    "    torch.as_tensor(x_valid).float(),\n",
    "    torch.as_tensor(y_valid.reshape(-1, 1)).float()\n",
    ")\n",
    "train_loader = D.DataLoader(train_ds, batch_size=64, shuffle=True)\n",
    "valid_loader = D.DataLoader(valid_ds, batch_size=64, shuffle=False)"
   ]
  },
  {
   "cell_type": "code",
   "execution_count": 6,
   "metadata": {
    "tags": []
   },
   "outputs": [
    {
     "output_type": "stream",
     "name": "stdout",
     "text": "TorchLogger created at 20/11/20:09:55:22\n"
    }
   ],
   "source": [
    "model = TabularNet(in_features=x_train.shape[1], out_features=1)\n",
    "optimizer = torch.optim.Adam(model.parameters(), lr=1e-3, weight_decay=5e-3)\n",
    "scheduler = torch.optim.lr_scheduler.ReduceLROnPlateau(\n",
    "    optimizer, 'min', factor=0.5, patience=2, verbose=True, min_lr=1e-5)\n",
    "criterion = nn.BCEWithLogitsLoss()\n",
    "\n",
    "fit_params = {\n",
    "    'loader': train_loader,\n",
    "    'loader_valid': valid_loader,\n",
    "    'criterion': criterion,\n",
    "    'optimizer': optimizer,\n",
    "    'scheduler': scheduler,\n",
    "    'num_epochs': 100,\n",
    "    'callbacks': [EarlyStopping(5, maximize=True, skip_epoch=10)],\n",
    "    'eval_metric': AUC().torch,\n",
    "    'monitor_metrics': [Accuracy().torch], \n",
    "    'logger': TorchLogger(\n",
    "        'results/baseline/log.log', \n",
    "        log_items=['epoch', 'loss_valid', 'metric_train', \n",
    "                   'metric_valid', 'monitor_metrics_valid', 'earlystop']),\n",
    "    # 'calibrate_model': True, \n",
    "    'snapshot_path': 'results/baseline/',\n",
    "    # 'resume': True\n",
    "}"
   ]
  },
  {
   "cell_type": "code",
   "execution_count": 7,
   "metadata": {
    "tags": []
   },
   "outputs": [
    {
     "output_type": "stream",
     "name": "stdout",
     "text": "[Trainer] On cpu.\n09:55:22 [  1/100] loss_valid=0.659751 | metric_train=0.556256 | metric_valid=0.694287 | monitor_metrics_valid=[0.359649] \n09:55:22 [  2/100] loss_valid=0.642436 | metric_train=0.539844 | metric_valid=0.963916 | monitor_metrics_valid=[0.252385] \n09:55:22 [  3/100] loss_valid=0.621979 | metric_train=0.578206 | metric_valid=0.944537 | monitor_metrics_valid=[0.283934] \n09:55:22 [  4/100] loss_valid=0.536184 | metric_train=0.593938 | metric_valid=0.890745 | monitor_metrics_valid=[0.283241] \n09:55:22 [  5/100] loss_valid=0.525523 | metric_train=0.609526 | metric_valid=0.930170 | monitor_metrics_valid=[0.255540] \n09:55:22 [  6/100] loss_valid=0.488632 | metric_train=0.740713 | metric_valid=0.861009 | monitor_metrics_valid=[0.454832] \n09:55:22 [  7/100] loss_valid=0.532457 | metric_train=0.676468 | metric_valid=0.938189 | monitor_metrics_valid=[0.255540] \n09:55:22 [  8/100] loss_valid=0.494024 | metric_train=0.744028 | metric_valid=0.816572 | monitor_metrics_valid=[0.509003] \n09:55:22 [  9/100] loss_valid=0.469771 | metric_train=0.763961 | metric_valid=0.929502 | monitor_metrics_valid=[0.264004] \n09:55:22 [ 10/100] loss_valid=0.452298 | metric_train=0.760213 | metric_valid=0.916472 | monitor_metrics_valid=[0.367729] \n09:55:22 [ 11/100] loss_valid=0.479900 | metric_train=0.788403 | metric_valid=0.916639 | monitor_metrics_valid=[0.265005] \n09:55:23 [ 12/100] loss_valid=0.468334 | metric_train=0.778457 | metric_valid=0.917808 | monitor_metrics_valid=[0.255540] \n09:55:23 [ 13/100] loss_valid=0.464221 | metric_train=0.825467 | metric_valid=0.953224 | monitor_metrics_valid=[0.277624] \nEpoch    14: reducing learning rate of group 0 to 5.0000e-04.\n09:55:23 [ 14/100] loss_valid=0.443007 | metric_train=0.822811 | metric_valid=0.946876 | monitor_metrics_valid=[0.246076] (*1)\n09:55:23 [ 15/100] loss_valid=0.432622 | metric_train=0.835104 | metric_valid=0.891747 | monitor_metrics_valid=[0.373730] (*2)\n09:55:23 [ 16/100] loss_valid=0.443586 | metric_train=0.833519 | metric_valid=0.893418 | monitor_metrics_valid=[0.412358] (*3)\n09:55:23 [ 17/100] loss_valid=0.426003 | metric_train=0.803723 | metric_valid=0.890745 | monitor_metrics_valid=[0.448600] (*4)\n09:55:23 [ 18/100] loss_valid=0.406474 | metric_train=0.879685 | metric_valid=0.890411 | monitor_metrics_valid=[0.398046] (*5)\n09:55:23 Training stopped by overfit detector.\n09:55:23 Best epoch is [13], best score is [0.953224].\n09:55:23 Prediction done. exported to None\n09:55:23 Skipping prediction...\n"
    }
   ],
   "source": [
    "trn = TorchTrainer(model)\n",
    "trn.train(**fit_params)"
   ]
  },
  {
   "cell_type": "code",
   "execution_count": 8,
   "metadata": {},
   "outputs": [
    {
     "output_type": "execute_result",
     "data": {
      "text/plain": "(114, 1)"
     },
     "metadata": {},
     "execution_count": 8
    }
   ],
   "source": [
    "trn.outoffold.shape"
   ]
  },
  {
   "cell_type": "code",
   "execution_count": null,
   "metadata": {},
   "outputs": [],
   "source": []
  }
 ],
 "metadata": {
  "language_info": {
   "codemirror_mode": {
    "name": "ipython",
    "version": 3
   },
   "file_extension": ".py",
   "mimetype": "text/x-python",
   "name": "python",
   "nbconvert_exporter": "python",
   "pygments_lexer": "ipython3",
   "version": 3
  },
  "orig_nbformat": 2,
  "kernelspec": {
   "name": "python_defaultSpec_1605865440594",
   "display_name": "Python 3.7.9 64-bit ('kumaconda': pyenv)"
  }
 },
 "nbformat": 4,
 "nbformat_minor": 2
}