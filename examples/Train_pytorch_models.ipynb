{
 "cells": [
  {
   "cell_type": "markdown",
   "metadata": {},
   "source": [
    "# Tutorial: Train PyTorch Models"
   ]
  },
  {
   "cell_type": "code",
   "execution_count": 1,
   "metadata": {},
   "outputs": [],
   "source": [
    "import numpy as np\n",
    "import pandas as pd\n",
    "from sklearn import datasets\n",
    "from sklearn.model_selection import train_test_split"
   ]
  },
  {
   "cell_type": "code",
   "execution_count": 2,
   "metadata": {},
   "outputs": [],
   "source": [
    "features, labels = datasets.load_breast_cancer(return_X_y=True)\n",
    "x_train, x_valid, y_train, y_valid = train_test_split(features, labels, test_size=0.2)"
   ]
  },
  {
   "cell_type": "code",
   "execution_count": 3,
   "metadata": {},
   "outputs": [
    {
     "output_type": "execute_result",
     "data": {
      "text/plain": "((569, 30), (569,))"
     },
     "metadata": {},
     "execution_count": 3
    }
   ],
   "source": [
    "features.shape, labels.shape"
   ]
  },
  {
   "cell_type": "code",
   "execution_count": 4,
   "metadata": {
    "tags": []
   },
   "outputs": [
    {
     "output_type": "stream",
     "name": "stdout",
     "text": "torch_xla not found.\nnvidia apex not found.\n"
    }
   ],
   "source": [
    "import torch\n",
    "import torch.nn as nn\n",
    "import torch.utils.data as D\n",
    "from kuma_utils.torch import TorchTrainer, EarlyStopping, TorchLogger\n",
    "from kuma_utils.torch.model_zoo import TabularNet\n",
    "from kuma_utils.metrics import AUC, Accuracy\n",
    "from kuma_utils.utils import sigmoid"
   ]
  },
  {
   "cell_type": "code",
   "execution_count": 5,
   "metadata": {},
   "outputs": [],
   "source": [
    "train_ds = D.TensorDataset(\n",
    "    torch.as_tensor(x_train).float(),\n",
    "    torch.as_tensor(y_train.reshape(-1, 1)).float()\n",
    ")\n",
    "valid_ds = D.TensorDataset(\n",
    "    torch.as_tensor(x_valid).float(),\n",
    "    torch.as_tensor(y_valid.reshape(-1, 1)).float()\n",
    ")\n",
    "train_loader = D.DataLoader(train_ds, batch_size=64, shuffle=True)\n",
    "valid_loader = D.DataLoader(valid_ds, batch_size=64, shuffle=False)"
   ]
  },
  {
   "cell_type": "code",
   "execution_count": 9,
   "metadata": {
    "tags": []
   },
   "outputs": [
    {
     "output_type": "stream",
     "name": "stdout",
     "text": "TorchLogger created at 20/11/21:03:21:21\n"
    }
   ],
   "source": [
    "model = TabularNet(in_features=x_train.shape[1], out_features=1)\n",
    "optimizer = torch.optim.Adam(model.parameters(), lr=1e-3, weight_decay=5e-3)\n",
    "scheduler = torch.optim.lr_scheduler.ReduceLROnPlateau(\n",
    "    optimizer, 'min', factor=0.5, patience=2, verbose=True, min_lr=1e-5)\n",
    "criterion = nn.BCEWithLogitsLoss()\n",
    "LogitsAcc = lambda approx, target: AUC().torch(sigmoid(approx), target)\n",
    "\n",
    "fit_params = {\n",
    "    'loader': train_loader,\n",
    "    'loader_valid': valid_loader,\n",
    "    'criterion': criterion,\n",
    "    'optimizer': optimizer,\n",
    "    'scheduler': scheduler,\n",
    "    'num_epochs': 30,\n",
    "    'callbacks': [EarlyStopping(5, maximize=True, skip_epoch=10)],\n",
    "    'eval_metric': AUC().torch,\n",
    "    'monitor_metrics': [LogitsAcc], \n",
    "    'logger': TorchLogger('logger.log', log_items=[\n",
    "        'loss_train', 'loss_valid', 'metric_valid', 'monitor_metrics_valid', 'earlystop'\n",
    "    ]),\n",
    "    # 'calibrate_model': True, \n",
    "    # 'snapshot_path': 'results/baseline/',\n",
    "    # 'resume': True\n",
    "}"
   ]
  },
  {
   "cell_type": "code",
   "execution_count": 10,
   "metadata": {
    "tags": []
   },
   "outputs": [
    {
     "output_type": "stream",
     "name": "stdout",
     "text": "03:21:22 Model is on cpu\n03:21:22 loss_train=4.437667 | loss_valid=0.769077 | metric_valid=0.035100 | monitor_metrics_valid=[0.035100] \n03:21:22 loss_train=1.761077 | loss_valid=0.635398 | metric_valid=0.861004 | monitor_metrics_valid=[0.861004] \n03:21:22 loss_train=1.513724 | loss_valid=0.704916 | metric_valid=0.058968 | monitor_metrics_valid=[0.058968] \n03:21:22 loss_train=1.055435 | loss_valid=0.610955 | metric_valid=0.936820 | monitor_metrics_valid=[0.936820] \n03:21:22 loss_train=0.864968 | loss_valid=0.625825 | metric_valid=0.963847 | monitor_metrics_valid=[0.963847] \n03:21:22 loss_train=0.744723 | loss_valid=0.634138 | metric_valid=0.958231 | monitor_metrics_valid=[0.958231] \n03:21:22 loss_train=0.681240 | loss_valid=0.623364 | metric_valid=0.975079 | monitor_metrics_valid=[0.975079] \nEpoch     8: reducing learning rate of group 0 to 5.0000e-04.\n03:21:22 loss_train=0.647059 | loss_valid=0.601147 | metric_valid=0.966655 | monitor_metrics_valid=[0.966655] \n03:21:22 loss_train=0.654366 | loss_valid=0.556620 | metric_valid=0.989119 | monitor_metrics_valid=[0.989119] \n03:21:22 loss_train=0.595924 | loss_valid=0.549865 | metric_valid=0.976483 | monitor_metrics_valid=[0.976483] \n03:21:22 loss_train=0.603895 | loss_valid=0.563941 | metric_valid=0.975781 | monitor_metrics_valid=[0.975781] \n03:21:22 loss_train=0.598528 | loss_valid=0.532481 | metric_valid=0.982450 | monitor_metrics_valid=[0.982450] \n03:21:22 loss_train=0.584066 | loss_valid=0.517215 | metric_valid=0.979993 | monitor_metrics_valid=[0.979993] (*1)\n03:21:22 loss_train=0.568073 | loss_valid=0.515476 | metric_valid=0.966304 | monitor_metrics_valid=[0.966304] (*2)\n03:21:22 loss_train=0.593273 | loss_valid=0.510262 | metric_valid=0.955774 | monitor_metrics_valid=[0.955774] (*3)\n03:21:22 loss_train=0.546596 | loss_valid=0.483146 | metric_valid=0.963496 | monitor_metrics_valid=[0.963496] (*4)\n03:21:22 loss_train=0.564228 | loss_valid=0.500325 | metric_valid=0.963496 | monitor_metrics_valid=[0.963496] (*5)\n03:21:22 Training stopped by overfit detector.\n03:21:22 Best epoch is [12], best score is [0.982450].\n03:21:22 Prediction done. exported to None\n03:21:22 Skipping prediction...\n"
    }
   ],
   "source": [
    "trn = TorchTrainer(model)\n",
    "trn.train(**fit_params)"
   ]
  },
  {
   "cell_type": "code",
   "execution_count": null,
   "metadata": {},
   "outputs": [],
   "source": []
  }
 ],
 "metadata": {
  "language_info": {
   "codemirror_mode": {
    "name": "ipython",
    "version": 3
   },
   "file_extension": ".py",
   "mimetype": "text/x-python",
   "name": "python",
   "nbconvert_exporter": "python",
   "pygments_lexer": "ipython3",
   "version": 3
  },
  "orig_nbformat": 2,
  "kernelspec": {
   "name": "python_defaultSpec_1605924179509",
   "display_name": "Python 3.7.9 64-bit ('kumaconda': pyenv)"
  }
 },
 "nbformat": 4,
 "nbformat_minor": 2
}