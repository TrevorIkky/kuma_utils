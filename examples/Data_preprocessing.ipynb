{
 "cells": [
  {
   "cell_type": "markdown",
   "metadata": {},
   "source": [
    "# Tutorial: Data preprocessing"
   ]
  },
  {
   "cell_type": "code",
   "execution_count": 1,
   "metadata": {
    "tags": []
   },
   "outputs": [],
   "source": [
    "%load_ext autoreload\n",
    "%autoreload 2"
   ]
  },
  {
   "cell_type": "code",
   "execution_count": 2,
   "metadata": {},
   "outputs": [],
   "source": [
    "import numpy as np\n",
    "import pandas as pd"
   ]
  },
  {
   "cell_type": "markdown",
   "metadata": {},
   "source": [
    "## Load UCI Data\n",
    "UCI Adult data are going to be used in this tutorial. The data contain both numerical and categorical features, and the target to predict is whether a person makes over 50K a year. It is a very simple binary classification task."
   ]
  },
  {
   "cell_type": "code",
   "execution_count": 3,
   "metadata": {},
   "outputs": [],
   "source": [
    "train = pd.read_csv('kuma_utils/datasets/adult_train.csv')\n",
    "test = pd.read_csv('kuma_utils/datasets/adult_test.csv')"
   ]
  },
  {
   "cell_type": "code",
   "execution_count": 4,
   "metadata": {},
   "outputs": [
    {
     "output_type": "execute_result",
     "data": {
      "text/plain": "   Age          Workclass  fnlwgt   Education  Education_Num  \\\n0   39          State-gov   77516   Bachelors             13   \n1   50   Self-emp-not-inc   83311   Bachelors             13   \n2   38            Private  215646     HS-grad              9   \n3   53            Private  234721        11th              7   \n4   28            Private  338409   Bachelors             13   \n\n        Martial_Status          Occupation    Relationship    Race      Sex  \\\n0        Never-married        Adm-clerical   Not-in-family   White     Male   \n1   Married-civ-spouse     Exec-managerial         Husband   White     Male   \n2             Divorced   Handlers-cleaners   Not-in-family   White     Male   \n3   Married-civ-spouse   Handlers-cleaners         Husband   Black     Male   \n4   Married-civ-spouse      Prof-specialty            Wife   Black   Female   \n\n   Capital_Gain  Capital_Loss  Hours_per_week         Country  Target  \n0          2174             0              40   United-States   <=50K  \n1             0             0              13   United-States   <=50K  \n2             0             0              40   United-States   <=50K  \n3             0             0              40   United-States   <=50K  \n4             0             0              40            Cuba   <=50K  ",
      "text/html": "<div>\n<style scoped>\n    .dataframe tbody tr th:only-of-type {\n        vertical-align: middle;\n    }\n\n    .dataframe tbody tr th {\n        vertical-align: top;\n    }\n\n    .dataframe thead th {\n        text-align: right;\n    }\n</style>\n<table border=\"1\" class=\"dataframe\">\n  <thead>\n    <tr style=\"text-align: right;\">\n      <th></th>\n      <th>Age</th>\n      <th>Workclass</th>\n      <th>fnlwgt</th>\n      <th>Education</th>\n      <th>Education_Num</th>\n      <th>Martial_Status</th>\n      <th>Occupation</th>\n      <th>Relationship</th>\n      <th>Race</th>\n      <th>Sex</th>\n      <th>Capital_Gain</th>\n      <th>Capital_Loss</th>\n      <th>Hours_per_week</th>\n      <th>Country</th>\n      <th>Target</th>\n    </tr>\n  </thead>\n  <tbody>\n    <tr>\n      <th>0</th>\n      <td>39</td>\n      <td>State-gov</td>\n      <td>77516</td>\n      <td>Bachelors</td>\n      <td>13</td>\n      <td>Never-married</td>\n      <td>Adm-clerical</td>\n      <td>Not-in-family</td>\n      <td>White</td>\n      <td>Male</td>\n      <td>2174</td>\n      <td>0</td>\n      <td>40</td>\n      <td>United-States</td>\n      <td>&lt;=50K</td>\n    </tr>\n    <tr>\n      <th>1</th>\n      <td>50</td>\n      <td>Self-emp-not-inc</td>\n      <td>83311</td>\n      <td>Bachelors</td>\n      <td>13</td>\n      <td>Married-civ-spouse</td>\n      <td>Exec-managerial</td>\n      <td>Husband</td>\n      <td>White</td>\n      <td>Male</td>\n      <td>0</td>\n      <td>0</td>\n      <td>13</td>\n      <td>United-States</td>\n      <td>&lt;=50K</td>\n    </tr>\n    <tr>\n      <th>2</th>\n      <td>38</td>\n      <td>Private</td>\n      <td>215646</td>\n      <td>HS-grad</td>\n      <td>9</td>\n      <td>Divorced</td>\n      <td>Handlers-cleaners</td>\n      <td>Not-in-family</td>\n      <td>White</td>\n      <td>Male</td>\n      <td>0</td>\n      <td>0</td>\n      <td>40</td>\n      <td>United-States</td>\n      <td>&lt;=50K</td>\n    </tr>\n    <tr>\n      <th>3</th>\n      <td>53</td>\n      <td>Private</td>\n      <td>234721</td>\n      <td>11th</td>\n      <td>7</td>\n      <td>Married-civ-spouse</td>\n      <td>Handlers-cleaners</td>\n      <td>Husband</td>\n      <td>Black</td>\n      <td>Male</td>\n      <td>0</td>\n      <td>0</td>\n      <td>40</td>\n      <td>United-States</td>\n      <td>&lt;=50K</td>\n    </tr>\n    <tr>\n      <th>4</th>\n      <td>28</td>\n      <td>Private</td>\n      <td>338409</td>\n      <td>Bachelors</td>\n      <td>13</td>\n      <td>Married-civ-spouse</td>\n      <td>Prof-specialty</td>\n      <td>Wife</td>\n      <td>Black</td>\n      <td>Female</td>\n      <td>0</td>\n      <td>0</td>\n      <td>40</td>\n      <td>Cuba</td>\n      <td>&lt;=50K</td>\n    </tr>\n  </tbody>\n</table>\n</div>"
     },
     "metadata": {},
     "execution_count": 4
    }
   ],
   "source": [
    "train.head()"
   ]
  },
  {
   "cell_type": "code",
   "execution_count": 5,
   "metadata": {},
   "outputs": [
    {
     "output_type": "execute_result",
     "data": {
      "text/plain": "   Age   Workclass    fnlwgt      Education  Education_Num  \\\n0   25     Private  226802.0           11th            7.0   \n1   38     Private   89814.0        HS-grad            9.0   \n2   28   Local-gov  336951.0     Assoc-acdm           12.0   \n3   44     Private  160323.0   Some-college           10.0   \n4   18         NaN  103497.0   Some-college           10.0   \n\n        Martial_Status          Occupation Relationship    Race      Sex  \\\n0        Never-married   Machine-op-inspct    Own-child   Black     Male   \n1   Married-civ-spouse     Farming-fishing      Husband   White     Male   \n2   Married-civ-spouse     Protective-serv      Husband   White     Male   \n3   Married-civ-spouse   Machine-op-inspct      Husband   Black     Male   \n4        Never-married                 NaN    Own-child   White   Female   \n\n   Capital_Gain  Capital_Loss  Hours_per_week         Country  Target  \n0           0.0           0.0            40.0   United-States   <=50K  \n1           0.0           0.0            50.0   United-States   <=50K  \n2           0.0           0.0            40.0   United-States    >50K  \n3        7688.0           0.0            40.0   United-States    >50K  \n4           0.0           0.0            30.0   United-States   <=50K  ",
      "text/html": "<div>\n<style scoped>\n    .dataframe tbody tr th:only-of-type {\n        vertical-align: middle;\n    }\n\n    .dataframe tbody tr th {\n        vertical-align: top;\n    }\n\n    .dataframe thead th {\n        text-align: right;\n    }\n</style>\n<table border=\"1\" class=\"dataframe\">\n  <thead>\n    <tr style=\"text-align: right;\">\n      <th></th>\n      <th>Age</th>\n      <th>Workclass</th>\n      <th>fnlwgt</th>\n      <th>Education</th>\n      <th>Education_Num</th>\n      <th>Martial_Status</th>\n      <th>Occupation</th>\n      <th>Relationship</th>\n      <th>Race</th>\n      <th>Sex</th>\n      <th>Capital_Gain</th>\n      <th>Capital_Loss</th>\n      <th>Hours_per_week</th>\n      <th>Country</th>\n      <th>Target</th>\n    </tr>\n  </thead>\n  <tbody>\n    <tr>\n      <th>0</th>\n      <td>25</td>\n      <td>Private</td>\n      <td>226802.0</td>\n      <td>11th</td>\n      <td>7.0</td>\n      <td>Never-married</td>\n      <td>Machine-op-inspct</td>\n      <td>Own-child</td>\n      <td>Black</td>\n      <td>Male</td>\n      <td>0.0</td>\n      <td>0.0</td>\n      <td>40.0</td>\n      <td>United-States</td>\n      <td>&lt;=50K</td>\n    </tr>\n    <tr>\n      <th>1</th>\n      <td>38</td>\n      <td>Private</td>\n      <td>89814.0</td>\n      <td>HS-grad</td>\n      <td>9.0</td>\n      <td>Married-civ-spouse</td>\n      <td>Farming-fishing</td>\n      <td>Husband</td>\n      <td>White</td>\n      <td>Male</td>\n      <td>0.0</td>\n      <td>0.0</td>\n      <td>50.0</td>\n      <td>United-States</td>\n      <td>&lt;=50K</td>\n    </tr>\n    <tr>\n      <th>2</th>\n      <td>28</td>\n      <td>Local-gov</td>\n      <td>336951.0</td>\n      <td>Assoc-acdm</td>\n      <td>12.0</td>\n      <td>Married-civ-spouse</td>\n      <td>Protective-serv</td>\n      <td>Husband</td>\n      <td>White</td>\n      <td>Male</td>\n      <td>0.0</td>\n      <td>0.0</td>\n      <td>40.0</td>\n      <td>United-States</td>\n      <td>&gt;50K</td>\n    </tr>\n    <tr>\n      <th>3</th>\n      <td>44</td>\n      <td>Private</td>\n      <td>160323.0</td>\n      <td>Some-college</td>\n      <td>10.0</td>\n      <td>Married-civ-spouse</td>\n      <td>Machine-op-inspct</td>\n      <td>Husband</td>\n      <td>Black</td>\n      <td>Male</td>\n      <td>7688.0</td>\n      <td>0.0</td>\n      <td>40.0</td>\n      <td>United-States</td>\n      <td>&gt;50K</td>\n    </tr>\n    <tr>\n      <th>4</th>\n      <td>18</td>\n      <td>NaN</td>\n      <td>103497.0</td>\n      <td>Some-college</td>\n      <td>10.0</td>\n      <td>Never-married</td>\n      <td>NaN</td>\n      <td>Own-child</td>\n      <td>White</td>\n      <td>Female</td>\n      <td>0.0</td>\n      <td>0.0</td>\n      <td>30.0</td>\n      <td>United-States</td>\n      <td>&lt;=50K</td>\n    </tr>\n  </tbody>\n</table>\n</div>"
     },
     "metadata": {},
     "execution_count": 5
    }
   ],
   "source": [
    "test.head()"
   ]
  },
  {
   "cell_type": "code",
   "execution_count": 6,
   "metadata": {},
   "outputs": [],
   "source": [
    "target_dict = {\n",
    "    ' <=50K': 0,\n",
    "    ' >50K': 1\n",
    "}"
   ]
  },
  {
   "cell_type": "code",
   "execution_count": 7,
   "metadata": {},
   "outputs": [],
   "source": [
    "from xfeat import SelectCategorical, SelectNumerical\n",
    "from kuma_utils.preprocessing.xfeat import Pipeline, TargetEncoder\n",
    "from category_encoders import OrdinalEncoder"
   ]
  },
  {
   "cell_type": "code",
   "execution_count": 8,
   "metadata": {},
   "outputs": [],
   "source": [
    "num_enc = Pipeline([\n",
    "    SelectNumerical(),\n",
    "])\n",
    "\n",
    "cat_enc = Pipeline([\n",
    "    SelectCategorical(exclude_cols=['Target']),\n",
    "    OrdinalEncoder(handle_missing='return_nan')\n",
    "], target_col='Target')"
   ]
  },
  {
   "cell_type": "code",
   "execution_count": 9,
   "metadata": {},
   "outputs": [
    {
     "output_type": "execute_result",
     "data": {
      "text/plain": "   Workclass  Education  Martial_Status  Occupation  Relationship  Race  Sex  \\\n0        1.0          1               1         1.0             1     1    1   \n1        2.0          1               2         2.0             2     1    1   \n2        3.0          2               3         3.0             1     1    1   \n3        3.0          3               2         3.0             2     2    1   \n4        3.0          1               2         4.0             3     2    2   \n\n   Country   Age    fnlwgt  Education_Num  Capital_Gain  Capital_Loss  \\\n0      1.0  39.0   77516.0           13.0        2174.0           0.0   \n1      1.0  50.0   83311.0           13.0           0.0           0.0   \n2      1.0  38.0  215646.0            9.0           0.0           0.0   \n3      1.0  53.0  234721.0            7.0           0.0           0.0   \n4      2.0  28.0  338409.0           13.0           0.0           0.0   \n\n   Hours_per_week  \n0            40.0  \n1            13.0  \n2            40.0  \n3            40.0  \n4            40.0  ",
      "text/html": "<div>\n<style scoped>\n    .dataframe tbody tr th:only-of-type {\n        vertical-align: middle;\n    }\n\n    .dataframe tbody tr th {\n        vertical-align: top;\n    }\n\n    .dataframe thead th {\n        text-align: right;\n    }\n</style>\n<table border=\"1\" class=\"dataframe\">\n  <thead>\n    <tr style=\"text-align: right;\">\n      <th></th>\n      <th>Workclass</th>\n      <th>Education</th>\n      <th>Martial_Status</th>\n      <th>Occupation</th>\n      <th>Relationship</th>\n      <th>Race</th>\n      <th>Sex</th>\n      <th>Country</th>\n      <th>Age</th>\n      <th>fnlwgt</th>\n      <th>Education_Num</th>\n      <th>Capital_Gain</th>\n      <th>Capital_Loss</th>\n      <th>Hours_per_week</th>\n    </tr>\n  </thead>\n  <tbody>\n    <tr>\n      <th>0</th>\n      <td>1.0</td>\n      <td>1</td>\n      <td>1</td>\n      <td>1.0</td>\n      <td>1</td>\n      <td>1</td>\n      <td>1</td>\n      <td>1.0</td>\n      <td>39.0</td>\n      <td>77516.0</td>\n      <td>13.0</td>\n      <td>2174.0</td>\n      <td>0.0</td>\n      <td>40.0</td>\n    </tr>\n    <tr>\n      <th>1</th>\n      <td>2.0</td>\n      <td>1</td>\n      <td>2</td>\n      <td>2.0</td>\n      <td>2</td>\n      <td>1</td>\n      <td>1</td>\n      <td>1.0</td>\n      <td>50.0</td>\n      <td>83311.0</td>\n      <td>13.0</td>\n      <td>0.0</td>\n      <td>0.0</td>\n      <td>13.0</td>\n    </tr>\n    <tr>\n      <th>2</th>\n      <td>3.0</td>\n      <td>2</td>\n      <td>3</td>\n      <td>3.0</td>\n      <td>1</td>\n      <td>1</td>\n      <td>1</td>\n      <td>1.0</td>\n      <td>38.0</td>\n      <td>215646.0</td>\n      <td>9.0</td>\n      <td>0.0</td>\n      <td>0.0</td>\n      <td>40.0</td>\n    </tr>\n    <tr>\n      <th>3</th>\n      <td>3.0</td>\n      <td>3</td>\n      <td>2</td>\n      <td>3.0</td>\n      <td>2</td>\n      <td>2</td>\n      <td>1</td>\n      <td>1.0</td>\n      <td>53.0</td>\n      <td>234721.0</td>\n      <td>7.0</td>\n      <td>0.0</td>\n      <td>0.0</td>\n      <td>40.0</td>\n    </tr>\n    <tr>\n      <th>4</th>\n      <td>3.0</td>\n      <td>1</td>\n      <td>2</td>\n      <td>4.0</td>\n      <td>3</td>\n      <td>2</td>\n      <td>2</td>\n      <td>2.0</td>\n      <td>28.0</td>\n      <td>338409.0</td>\n      <td>13.0</td>\n      <td>0.0</td>\n      <td>0.0</td>\n      <td>40.0</td>\n    </tr>\n  </tbody>\n</table>\n</div>"
     },
     "metadata": {},
     "execution_count": 9
    }
   ],
   "source": [
    "train_cat, train_num = cat_enc.fit_transform(train).astype(int, errors='ignore'), num_enc.fit_transform(train).astype(float)\n",
    "categorical_index = list(range(train_cat.shape[1]))\n",
    "train_encoded = pd.concat([train_cat, train_num], axis=1) \n",
    "train_encoded.head()"
   ]
  },
  {
   "cell_type": "code",
   "execution_count": 10,
   "metadata": {},
   "outputs": [
    {
     "output_type": "execute_result",
     "data": {
      "text/plain": "   Workclass  Education  Martial_Status  Occupation  Relationship  Race  Sex  \\\n0        3.0          3               1        10.0             4     2    1   \n1        3.0          2               2         9.0             2     1    1   \n2        5.0          7               2        13.0             2     1    1   \n3        3.0          6               2        10.0             2     2    1   \n4        NaN          6               1         NaN             4     1    2   \n\n   Country   Age    fnlwgt  Education_Num  Capital_Gain  Capital_Loss  \\\n0      1.0  25.0  226802.0            7.0           0.0           0.0   \n1      1.0  38.0   89814.0            9.0           0.0           0.0   \n2      1.0  28.0  336951.0           12.0           0.0           0.0   \n3      1.0  44.0  160323.0           10.0        7688.0           0.0   \n4      1.0  18.0  103497.0           10.0           0.0           0.0   \n\n   Hours_per_week  \n0            40.0  \n1            50.0  \n2            40.0  \n3            40.0  \n4            30.0  ",
      "text/html": "<div>\n<style scoped>\n    .dataframe tbody tr th:only-of-type {\n        vertical-align: middle;\n    }\n\n    .dataframe tbody tr th {\n        vertical-align: top;\n    }\n\n    .dataframe thead th {\n        text-align: right;\n    }\n</style>\n<table border=\"1\" class=\"dataframe\">\n  <thead>\n    <tr style=\"text-align: right;\">\n      <th></th>\n      <th>Workclass</th>\n      <th>Education</th>\n      <th>Martial_Status</th>\n      <th>Occupation</th>\n      <th>Relationship</th>\n      <th>Race</th>\n      <th>Sex</th>\n      <th>Country</th>\n      <th>Age</th>\n      <th>fnlwgt</th>\n      <th>Education_Num</th>\n      <th>Capital_Gain</th>\n      <th>Capital_Loss</th>\n      <th>Hours_per_week</th>\n    </tr>\n  </thead>\n  <tbody>\n    <tr>\n      <th>0</th>\n      <td>3.0</td>\n      <td>3</td>\n      <td>1</td>\n      <td>10.0</td>\n      <td>4</td>\n      <td>2</td>\n      <td>1</td>\n      <td>1.0</td>\n      <td>25.0</td>\n      <td>226802.0</td>\n      <td>7.0</td>\n      <td>0.0</td>\n      <td>0.0</td>\n      <td>40.0</td>\n    </tr>\n    <tr>\n      <th>1</th>\n      <td>3.0</td>\n      <td>2</td>\n      <td>2</td>\n      <td>9.0</td>\n      <td>2</td>\n      <td>1</td>\n      <td>1</td>\n      <td>1.0</td>\n      <td>38.0</td>\n      <td>89814.0</td>\n      <td>9.0</td>\n      <td>0.0</td>\n      <td>0.0</td>\n      <td>50.0</td>\n    </tr>\n    <tr>\n      <th>2</th>\n      <td>5.0</td>\n      <td>7</td>\n      <td>2</td>\n      <td>13.0</td>\n      <td>2</td>\n      <td>1</td>\n      <td>1</td>\n      <td>1.0</td>\n      <td>28.0</td>\n      <td>336951.0</td>\n      <td>12.0</td>\n      <td>0.0</td>\n      <td>0.0</td>\n      <td>40.0</td>\n    </tr>\n    <tr>\n      <th>3</th>\n      <td>3.0</td>\n      <td>6</td>\n      <td>2</td>\n      <td>10.0</td>\n      <td>2</td>\n      <td>2</td>\n      <td>1</td>\n      <td>1.0</td>\n      <td>44.0</td>\n      <td>160323.0</td>\n      <td>10.0</td>\n      <td>7688.0</td>\n      <td>0.0</td>\n      <td>40.0</td>\n    </tr>\n    <tr>\n      <th>4</th>\n      <td>NaN</td>\n      <td>6</td>\n      <td>1</td>\n      <td>NaN</td>\n      <td>4</td>\n      <td>1</td>\n      <td>2</td>\n      <td>1.0</td>\n      <td>18.0</td>\n      <td>103497.0</td>\n      <td>10.0</td>\n      <td>0.0</td>\n      <td>0.0</td>\n      <td>30.0</td>\n    </tr>\n  </tbody>\n</table>\n</div>"
     },
     "metadata": {},
     "execution_count": 10
    }
   ],
   "source": [
    "test_encoded = pd.concat([\n",
    "    cat_enc.transform(test).astype(int, errors='ignore'), \n",
    "    num_enc.transform(test).astype(float)], axis=1)\n",
    "test_encoded.head()"
   ]
  },
  {
   "cell_type": "markdown",
   "metadata": {},
   "source": [
    "## Drop data points "
   ]
  },
  {
   "cell_type": "code",
   "execution_count": 11,
   "metadata": {},
   "outputs": [],
   "source": [
    "def random_drop(df, ratio=0.1):\n",
    "    for col in df.columns:\n",
    "        if col in 'Target':\n",
    "            continue\n",
    "        drop_num = int(df.shape[0] * ratio)\n",
    "        drop_idx = np.random.choice(np.arange(df.shape[0]), drop_num)\n",
    "        df[col].iloc[drop_idx] = np.nan"
   ]
  },
  {
   "cell_type": "code",
   "execution_count": 12,
   "metadata": {},
   "outputs": [],
   "source": [
    "random_drop(train_encoded, 0.2)\n",
    "random_drop(test_encoded, 0.2)"
   ]
  },
  {
   "cell_type": "markdown",
   "metadata": {},
   "source": [
    "## Regression imputer and Simple imputer"
   ]
  },
  {
   "cell_type": "code",
   "execution_count": 13,
   "metadata": {},
   "outputs": [],
   "source": [
    "from kuma_utils.preprocessing.imputer import LGBMImputer\n",
    "from sklearn.impute import SimpleImputer"
   ]
  },
  {
   "cell_type": "code",
   "execution_count": 14,
   "metadata": {
    "tags": []
   },
   "outputs": [
    {
     "output_type": "stream",
     "name": "stderr",
     "text": "100%|██████████| 14/14 [00:16<00:00,  1.15s/it]\n"
    }
   ],
   "source": [
    "imputer = LGBMImputer(cat_features=categorical_index)\n",
    "train_encoded2 = imputer.fit_transform(train_encoded)\n",
    "test_encoded2 = imputer.transform(test_encoded)"
   ]
  },
  {
   "cell_type": "code",
   "execution_count": 15,
   "metadata": {},
   "outputs": [],
   "source": [
    "simple_imputer = SimpleImputer(strategy='most_frequent')\n",
    "simple_imputer.fit(train_encoded)\n",
    "train_encoded3 = pd.DataFrame(simple_imputer.transform(train_encoded), columns=train_encoded.columns)\n",
    "test_encoded3 = pd.DataFrame(simple_imputer.transform(test_encoded), columns=test_encoded.columns)"
   ]
  },
  {
   "cell_type": "code",
   "execution_count": 16,
   "metadata": {
    "tags": []
   },
   "outputs": [
    {
     "output_type": "stream",
     "name": "stdout",
     "text": "<class 'pandas.core.frame.DataFrame'>\nRangeIndex: 32561 entries, 0 to 32560\nData columns (total 14 columns):\n #   Column          Non-Null Count  Dtype  \n---  ------          --------------  -----  \n 0   Workclass       32561 non-null  int64  \n 1   Education       32561 non-null  int64  \n 2   Martial_Status  32561 non-null  int64  \n 3   Occupation      32561 non-null  int64  \n 4   Relationship    32561 non-null  int64  \n 5   Race            32561 non-null  int64  \n 6   Sex             32561 non-null  int64  \n 7   Country         32561 non-null  int64  \n 8   Age             32561 non-null  float64\n 9   fnlwgt          32561 non-null  float64\n 10  Education_Num   32561 non-null  float64\n 11  Capital_Gain    32561 non-null  float64\n 12  Capital_Loss    32561 non-null  float64\n 13  Hours_per_week  32561 non-null  float64\ndtypes: float64(6), int64(8)\nmemory usage: 3.5 MB\n<class 'pandas.core.frame.DataFrame'>\nRangeIndex: 16281 entries, 0 to 16280\nData columns (total 14 columns):\n #   Column          Non-Null Count  Dtype  \n---  ------          --------------  -----  \n 0   Workclass       16281 non-null  int64  \n 1   Education       16281 non-null  int64  \n 2   Martial_Status  16281 non-null  int64  \n 3   Occupation      16281 non-null  int64  \n 4   Relationship    16281 non-null  int64  \n 5   Race            16281 non-null  int64  \n 6   Sex             16281 non-null  int64  \n 7   Country         16281 non-null  int64  \n 8   Age             16281 non-null  float64\n 9   fnlwgt          16281 non-null  float64\n 10  Education_Num   16281 non-null  float64\n 11  Capital_Gain    16281 non-null  float64\n 12  Capital_Loss    16281 non-null  float64\n 13  Hours_per_week  16281 non-null  float64\ndtypes: float64(6), int64(8)\nmemory usage: 1.7 MB\n"
    },
    {
     "output_type": "execute_result",
     "data": {
      "text/plain": "(None, None)"
     },
     "metadata": {},
     "execution_count": 16
    }
   ],
   "source": [
    "train_encoded2.info(), test_encoded2.info()"
   ]
  },
  {
   "cell_type": "markdown",
   "metadata": {},
   "source": [
    "## Compare performance"
   ]
  },
  {
   "cell_type": "code",
   "execution_count": 17,
   "metadata": {},
   "outputs": [],
   "source": [
    "from sklearn.ensemble import RandomForestClassifier\n",
    "from sklearn.model_selection import StratifiedKFold\n",
    "from kuma_utils.training import CrossValidator\n",
    "from kuma_utils.metrics import AUC"
   ]
  },
  {
   "cell_type": "code",
   "execution_count": 18,
   "metadata": {},
   "outputs": [],
   "source": [
    "labels = train.Target.replace(target_dict)\n",
    "test_labels = test.Target.replace(target_dict)"
   ]
  },
  {
   "cell_type": "code",
   "execution_count": 21,
   "metadata": {
    "tags": []
   },
   "outputs": [
    {
     "output_type": "stream",
     "name": "stdout",
     "text": "Logger created at 20/11/25:09:36:37\n09:36:37 [cv0] Starting fold 0\neval_metric automatically selected.\n09:36:39 [None]\tbest score is 0.884687\n09:36:39 [cv0] Fold 0: eval=0.884687 (iter=None)\n09:36:39 [cv0] Starting fold 1\neval_metric automatically selected.\n09:36:41 [None]\tbest score is 0.884826\n09:36:41 [cv0] Fold 1: eval=0.884826 (iter=None)\n09:36:41 [cv0] Starting fold 2\neval_metric automatically selected.\n09:36:43 [None]\tbest score is 0.885389\n09:36:43 [cv0] Fold 2: eval=0.885389 (iter=None)\n09:36:43 [cv0] Starting fold 3\neval_metric automatically selected.\n09:36:45 [None]\tbest score is 0.886907\n09:36:45 [cv0] Fold 3: eval=0.886907 (iter=None)\n09:36:46 [cv0] Starting fold 4\neval_metric automatically selected.\n09:36:48 [None]\tbest score is 0.891252\n09:36:48 [cv0] Fold 4: eval=0.891252 (iter=None)\n09:36:48 [cv0] Overall metric: 0.886612 + 0.002450\n"
    },
    {
     "output_type": "execute_result",
     "data": {
      "text/plain": "0.8901309168571004"
     },
     "metadata": {},
     "execution_count": 21
    }
   ],
   "source": [
    "cv0 = CrossValidator(RandomForestClassifier)\n",
    "cv0.train(\n",
    "    data=(train_encoded3, labels),\n",
    "    folds=StratifiedKFold(n_splits=5, random_state=0)\n",
    ")\n",
    "AUC()(test_labels, np.stack(cv0.smart_predict(test_encoded3)).mean(0))"
   ]
  },
  {
   "cell_type": "code",
   "execution_count": 22,
   "metadata": {
    "tags": []
   },
   "outputs": [
    {
     "output_type": "stream",
     "name": "stdout",
     "text": "Logger created at 20/11/25:09:36:49\n09:36:49 [cv0] Starting fold 0\neval_metric automatically selected.\n09:36:51 [None]\tbest score is 0.892954\n09:36:51 [cv0] Fold 0: eval=0.892954 (iter=None)\n09:36:51 [cv0] Starting fold 1\neval_metric automatically selected.\n09:36:54 [None]\tbest score is 0.887376\n09:36:54 [cv0] Fold 1: eval=0.887376 (iter=None)\n09:36:54 [cv0] Starting fold 2\neval_metric automatically selected.\n09:36:56 [None]\tbest score is 0.891081\n09:36:56 [cv0] Fold 2: eval=0.891081 (iter=None)\n09:36:56 [cv0] Starting fold 3\neval_metric automatically selected.\n09:36:59 [None]\tbest score is 0.896422\n09:36:59 [cv0] Fold 3: eval=0.896422 (iter=None)\n09:36:59 [cv0] Starting fold 4\neval_metric automatically selected.\n09:37:01 [None]\tbest score is 0.897924\n09:37:01 [cv0] Fold 4: eval=0.897924 (iter=None)\n09:37:01 [cv0] Overall metric: 0.893152 + 0.003772\n"
    },
    {
     "output_type": "execute_result",
     "data": {
      "text/plain": "0.896468385474462"
     },
     "metadata": {},
     "execution_count": 22
    }
   ],
   "source": [
    "cv1 = CrossValidator(RandomForestClassifier)\n",
    "cv1.train(\n",
    "    data=(train_encoded2, labels),\n",
    "    folds=StratifiedKFold(n_splits=5, random_state=0)\n",
    ")\n",
    "AUC()(test_labels, np.stack(cv1.smart_predict(test_encoded2)).mean(0))"
   ]
  },
  {
   "cell_type": "markdown",
   "metadata": {},
   "source": [
    "**LGBMImputer is better than SimpleImputer**"
   ]
  },
  {
   "cell_type": "code",
   "execution_count": null,
   "metadata": {},
   "outputs": [],
   "source": []
  }
 ],
 "metadata": {
  "language_info": {
   "codemirror_mode": {
    "name": "ipython",
    "version": 3
   },
   "file_extension": ".py",
   "mimetype": "text/x-python",
   "name": "python",
   "nbconvert_exporter": "python",
   "pygments_lexer": "ipython3",
   "version": 3
  },
  "orig_nbformat": 2,
  "kernelspec": {
   "name": "python_defaultSpec_1606285125251",
   "display_name": "Python 3.7.9 64-bit ('kumaconda': pyenv)"
  }
 },
 "nbformat": 4,
 "nbformat_minor": 2
}